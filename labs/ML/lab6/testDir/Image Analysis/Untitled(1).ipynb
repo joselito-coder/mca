{
 "cells": [
  {
   "cell_type": "code",
   "execution_count": 1,
   "id": "ecf196a2-4545-4888-9ac2-df3f290c70cb",
   "metadata": {},
   "outputs": [
    {
     "name": "stdout",
     "output_type": "stream",
     "text": [
      "\u001b[1;31merror\u001b[0m: \u001b[1mexternally-managed-environment\u001b[0m\n",
      "\n",
      "\u001b[31m×\u001b[0m This environment is externally managed\n",
      "\u001b[31m╰─>\u001b[0m To install Python packages system-wide, try 'pacman -S\n",
      "\u001b[31m   \u001b[0m python-xyz', where xyz is the package you are trying to\n",
      "\u001b[31m   \u001b[0m install.\n",
      "\u001b[31m   \u001b[0m \n",
      "\u001b[31m   \u001b[0m If you wish to install a non-Arch-packaged Python package,\n",
      "\u001b[31m   \u001b[0m create a virtual environment using 'python -m venv path/to/venv'.\n",
      "\u001b[31m   \u001b[0m Then use path/to/venv/bin/python and path/to/venv/bin/pip.\n",
      "\u001b[31m   \u001b[0m \n",
      "\u001b[31m   \u001b[0m If you wish to install a non-Arch packaged Python application,\n",
      "\u001b[31m   \u001b[0m it may be easiest to use 'pipx install xyz', which will manage a\n",
      "\u001b[31m   \u001b[0m virtual environment for you. Make sure you have python-pipx\n",
      "\u001b[31m   \u001b[0m installed via pacman.\n",
      "\n",
      "\u001b[1;35mnote\u001b[0m: If you believe this is a mistake, please contact your Python installation or OS distribution provider. You can override this, at the risk of breaking your Python installation or OS, by passing --break-system-packages.\n",
      "\u001b[1;36mhint\u001b[0m: See PEP 668 for the detailed specification.\n"
     ]
    }
   ],
   "source": [
    "!pip install Augmentor"
   ]
  },
  {
   "cell_type": "code",
   "execution_count": 22,
   "id": "55c4623e-a5a1-497b-bd09-866c18fbdb06",
   "metadata": {},
   "outputs": [
    {
     "name": "stdout",
     "output_type": "stream",
     "text": [
      "Initialised with 1 image(s) found.\n",
      "Output directory set to ./input\\output."
     ]
    },
    {
     "name": "stderr",
     "output_type": "stream",
     "text": [
      "Processing <PIL.Image.Image image mode=RGB size=250x250 at 0x143B5A6E300>: 100%|█| 3000/3000 [00:18<00:00, 158.76 Sampl\n"
     ]
    },
    {
     "name": "stdout",
     "output_type": "stream",
     "text": [
      "✅ Augmentation complete! 3000 images saved in './output/'.\n"
     ]
    }
   ],
   "source": [
    "import Augmentor\n",
    "import os\n",
    "\n",
    "# Define input and output folders\n",
    "input_folder = \"./input\"  # Folder containing the original image\n",
    "output_folder = \"./output\"  # Folder to save augmented images\n",
    "output_count = 3000  # Number of images to generate\n",
    "\n",
    "# Ensure output folder exists\n",
    "os.makedirs(output_folder, exist_ok=True)\n",
    "\n",
    "# Create an Augmentor pipeline (it saves images in input_folder/output/)\n",
    "p = Augmentor.Pipeline(input_folder)\n",
    "\n",
    "# Add transformations (without cropping or zooming)\n",
    "p.rotate(probability=1.0, max_left_rotation=25, max_right_rotation=25)  # Rotation in both directions  # Additional 30-degree rotation\n",
    "p.flip_left_right(probability=0.5)  # Random horizontal flip\n",
    "p.flip_top_bottom(probability=0.5)  # Random vertical flip\n",
    "p.shear(probability=0.7, max_shear_left=10, max_shear_right=10)  # Shearing effect\n",
    "\n",
    "# Generate augmented images\n",
    "p.sample(output_count)\n",
    "\n",
    "# Correct Augmentor's default output folder\n",
    "augmentor_output_folder = os.path.join(input_folder, \"output\")\n",
    "\n",
    "# Move generated images to the correct output folder\n",
    "if os.path.exists(augmentor_output_folder):  # Ensure folder exists\n",
    "    for filename in os.listdir(augmentor_output_folder):\n",
    "        src = os.path.join(augmentor_output_folder, filename)\n",
    "        dst = os.path.join(output_folder, filename)\n",
    "        os.rename(src, dst)\n",
    "    print(f\"✅ Augmentation complete! {output_count} images saved in '{output_folder}/'.\")\n",
    "else:\n",
    "    print(\"⚠️ No images found! Ensure 'input' contains an image and rerun the script.\")"
   ]
  },
  {
   "cell_type": "code",
   "execution_count": null,
   "id": "2b3763ca-e845-4dbf-9056-0bc4c3a454c6",
   "metadata": {},
   "outputs": [],
   "source": []
  }
 ],
 "metadata": {
  "kernelspec": {
   "display_name": "Python 3",
   "language": "python",
   "name": "python3"
  },
  "language_info": {
   "codemirror_mode": {
    "name": "ipython",
    "version": 3
   },
   "file_extension": ".py",
   "mimetype": "text/x-python",
   "name": "python",
   "nbconvert_exporter": "python",
   "pygments_lexer": "ipython3",
   "version": "3.13.1"
  }
 },
 "nbformat": 4,
 "nbformat_minor": 5
}
