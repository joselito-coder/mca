{
 "cells": [
  {
   "cell_type": "code",
   "execution_count": 1,
   "id": "02311426-8aa0-476a-95dc-b8d1d0e9173f",
   "metadata": {},
   "outputs": [],
   "source": [
    "def read_file(file_path):\n",
    "    with open(file_path, 'r', encoding='utf-8') as file:\n",
    "        return file.read()\n"
   ]
  },
  {
   "cell_type": "code",
   "execution_count": 2,
   "id": "3d3ce3e9-1fd7-4bf8-a38a-116086739e8f",
   "metadata": {},
   "outputs": [],
   "source": [
    "from difflib import SequenceMatcher\n",
    "from collections import Counter\n",
    "\n",
    "def calculate_accuracy_and_errors(ocr_text, corrected_text):\n",
    "    ocr_words = ocr_text.split()\n",
    "    corrected_words = corrected_text.split()\n",
    "    ocr_chars = list(ocr_text)\n",
    "    corrected_chars = list(corrected_text)\n",
    "\n",
    "    word_matches = sum(1 for o, c in zip(ocr_words, corrected_words) if o == c)\n",
    "    word_accuracy = (word_matches / len(corrected_words)) * 100 if corrected_words else 0\n",
    "\n",
    "    char_matches = sum(1 for o, c in zip(ocr_chars, corrected_chars) if o == c)\n",
    "    char_accuracy = (char_matches / len(corrected_chars)) * 100 if corrected_chars else 0\n",
    "\n",
    "    sm = SequenceMatcher(None, ocr_text, corrected_text)\n",
    "    errors = []\n",
    "    for tag, i1, i2, j1, j2 in sm.get_opcodes():\n",
    "        if tag == 'replace':\n",
    "            errors.append(('Substitution', ocr_text[i1:i2], corrected_text[j1:j2]))\n",
    "        elif tag == 'delete':\n",
    "            errors.append(('Deletion', ocr_text[i1:i2], ''))\n",
    "        elif tag == 'insert':\n",
    "            errors.append(('Insertion', '', corrected_text[j1:j2]))\n",
    "    \n",
    "    error_counts = Counter(err[0] for err in errors)\n",
    "    total_errors = sum(error_counts.values())\n",
    "\n",
    "    error_percentages = {error: (count / total_errors) * 100 for error, count in error_counts.items()}\n",
    "    \n",
    "    return word_accuracy, char_accuracy, errors, error_percentages\n"
   ]
  },
  {
   "cell_type": "code",
   "execution_count": 3,
   "id": "4cc645bc-ce82-4978-bd16-bb23fbb68dd0",
   "metadata": {},
   "outputs": [
    {
     "name": "stdout",
     "output_type": "stream",
     "text": [
      "Word Accuracy: 1.82%\n",
      "Character Accuracy: 5.31%\n",
      "\n",
      "Error Types and Examples:\n",
      "Substitution: OCR=' \n",
      "\n",
      "' | Corrected='591: गाबत्याक गोरूं ; भट्टाक तारूं. ं\n",
      "592. गायक मारली म्हुण वासराक मारतात वे ?......\n",
      "59'\n",
      "Substitution: OCR='91.\n",
      "592.\n",
      "593' | Corrected='. गायक विवचों वेछु ; पाड्याक बायल करचो वे'\n",
      "Substitution: OCR='\n",
      "\n",
      "595.\n",
      "596.\n",
      "$' | Corrected=' गायचे वासरा लागी पढ़यार तण खाता ; सूष्या\n",
      " पेट्या लागी पढुयार यू खाता. ।\n",
      "595. गायचो पाड्डो दाकै वाड़ो. भ\n",
      "596. गायता गायता गांवकार जाता. ...... .. ... :\n",
      "5'\n",
      "Insertion: OCR='' | Corrected=' गांव करचा सावकाराक हागूंक ना भाट. . .'\n",
      "Substitution: OCR='\n",
      "599' | Corrected=' गांवचे भायर वचनातील्याक सुंका .दर इत्याक ? ...\n",
      "599. गांवचों गांव धांवताना महेंतु धांवका. ... : '\n",
      "Substitution: OCR='\n",
      "' | Corrected=' गांवदो चोरू पुगी जायत ; परगांववों. सावकारू\n",
      "। न्हूंय. व लि दी |'\n",
      "Insertion: OCR='' | Corrected=' गांवचो रायु जाल्यारीय आवसुक चेरइ. . ... .'\n",
      "Substitution: OCR='\n",
      "' | Corrected=' गांव भरि देवांक पांय पढ़प्रारीय घोवू नातीलें .\n",
      "वेरड जाता वे ? लक'\n",
      "Insertion: OCR='' | Corrected=' गांव भरि सोयरे ; वाडतल्यांक मात्र सा ठिकाणें: ्ः'\n",
      "Insertion: OCR='' | Corrected=' गांव मारि, बोंब करि. व'\n",
      "\n",
      "Error Percentages:\n",
      "Substitution: 64.71%\n",
      "Insertion: 35.29%\n"
     ]
    }
   ],
   "source": [
    "ocr_file_name = 'page_53.png-053.txt'  \n",
    "corrected_file_name = 'corrected.txt'\n",
    "\n",
    "ocr_text = read_file(ocr_file_name)\n",
    "corrected_text = read_file(corrected_file_name)\n",
    "\n",
    "word_acc, char_acc, errors, error_percentages = calculate_accuracy_and_errors(ocr_text, corrected_text)\n",
    "\n",
    "print(f\"Word Accuracy: {word_acc:.2f}%\")\n",
    "print(f\"Character Accuracy: {char_acc:.2f}%\")\n",
    "print(\"\\nError Types and Examples:\")\n",
    "for error_type, ocr_segment, corrected_segment in errors[:10]:  \n",
    "    print(f\"{error_type}: OCR='{ocr_segment}' | Corrected='{corrected_segment}'\")\n",
    "print(\"\\nError Percentages:\")\n",
    "for error_type, percentage in error_percentages.items():\n",
    "    print(f\"{error_type}: {percentage:.2f}%\")\n"
   ]
  },
  {
   "cell_type": "code",
   "execution_count": null,
   "id": "f7ac3603-ae39-47ec-8e89-8e627434999d",
   "metadata": {},
   "outputs": [],
   "source": []
  }
 ],
 "metadata": {
  "kernelspec": {
   "display_name": "Python 3 (ipykernel)",
   "language": "python",
   "name": "python3"
  },
  "language_info": {
   "codemirror_mode": {
    "name": "ipython",
    "version": 3
   },
   "file_extension": ".py",
   "mimetype": "text/x-python",
   "name": "python",
   "nbconvert_exporter": "python",
   "pygments_lexer": "ipython3",
   "version": "3.13.1"
  }
 },
 "nbformat": 4,
 "nbformat_minor": 5
}
