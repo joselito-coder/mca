{
 "cells": [
  {
   "cell_type": "code",
   "execution_count": 6,
   "id": "4f906693-2f8d-4f12-a9a0-b3929aac89e2",
   "metadata": {},
   "outputs": [],
   "source": [
    "\n",
    "\n",
    "import numpy as np\n",
    "import pandas as pd\n",
    "import matplotlib.pyplot as plt\n",
    "import seaborn as sns\n",
    "import sklearn\n",
    "from sklearn.model_selection import train_test_split\n",
    "import kagglehub\n",
    "import os\n"
   ]
  },
  {
   "cell_type": "code",
   "execution_count": 7,
   "id": "864d574d-61e2-4e6e-a878-9e9af2f4ea33",
   "metadata": {},
   "outputs": [
    {
     "data": {
      "text/plain": [
       "'1.6.1'"
      ]
     },
     "execution_count": 7,
     "metadata": {},
     "output_type": "execute_result"
    }
   ],
   "source": [
    "sklearn.__version__"
   ]
  },
  {
   "cell_type": "code",
   "execution_count": 9,
   "id": "97c33f03-c07c-4d45-8617-f8aa8986081c",
   "metadata": {},
   "outputs": [
    {
     "name": "stdout",
     "output_type": "stream",
     "text": [
      "hello world\n",
      "Downloading from https://www.kaggle.com/api/v1/datasets/download/arijitbanerjee009/laptop?dataset_version_number=1...\n"
     ]
    },
    {
     "name": "stderr",
     "output_type": "stream",
     "text": [
      "100%|████████████████████████████████████████████████████████████████████████████████████| 24.4k/24.4k [00:00<00:00, 1.68MB/s]"
     ]
    },
    {
     "name": "stdout",
     "output_type": "stream",
     "text": [
      "Extracting files...\n",
      "Path to dataset files: /home/psytama/.cache/kagglehub/datasets/arijitbanerjee009/laptop/versions/1/laptop_data.csv\n"
     ]
    },
    {
     "name": "stderr",
     "output_type": "stream",
     "text": [
      "\n"
     ]
    }
   ],
   "source": [
    "\n",
    "# Download latest version\n",
    "downloadPath = kagglehub.dataset_download(\"arijitbanerjee009/laptop\")\n",
    "\n",
    "csvPath = os.path.join(downloadPath,\"laptop_data.csv\")\n",
    "\n",
    "# print(\"Path to dataset files:\", csvPath)\n"
   ]
  },
  {
   "cell_type": "code",
   "execution_count": null,
   "id": "16c8f657-149e-4d2b-860c-38063ec2762e",
   "metadata": {},
   "outputs": [],
   "source": []
  }
 ],
 "metadata": {
  "kernelspec": {
   "display_name": "Python 3 (ipykernel)",
   "language": "python",
   "name": "python3"
  },
  "language_info": {
   "codemirror_mode": {
    "name": "ipython",
    "version": 3
   },
   "file_extension": ".py",
   "mimetype": "text/x-python",
   "name": "python",
   "nbconvert_exporter": "python",
   "pygments_lexer": "ipython3",
   "version": "3.13.2"
  }
 },
 "nbformat": 4,
 "nbformat_minor": 5
}
