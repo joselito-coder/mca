{
 "cells": [
  {
   "cell_type": "code",
   "execution_count": 1,
   "id": "d90514aa-05c6-4e28-ac07-30466408cf1a",
   "metadata": {},
   "outputs": [],
   "source": [
    "#!pip install pandas==1.3.5"
   ]
  },
  {
   "cell_type": "code",
   "execution_count": 2,
   "id": "2dd83994-e3a4-436b-9f0d-55859c2a24c4",
   "metadata": {},
   "outputs": [],
   "source": [
    "import numpy as np\n",
    "import pandas as pd\n",
    "\n",
    "import matplotlib.pyplot as plt\n",
    "import plotly.express as px\n",
    "\n",
    "import plotly.io as pio\n",
    "pio.renderers.default = \"iframe\"\n",
    "\n",
    "from sklearn.decomposition import PCA\n",
    "\n",
    "from sklearn.preprocessing import StandardScaler\n",
    "from sklearn.model_selection import train_test_split\n",
    "from sklearn.model_selection import cross_val_score\n",
    "from sklearn.model_selection import GridSearchCV, RandomizedSearchCV\n",
    "\n",
    "from sklearn.metrics import accuracy_score\n",
    "from sklearn.metrics import precision_score, recall_score, f1_score"
   ]
  },
  {
   "cell_type": "code",
   "execution_count": 3,
   "id": "1d2b0165-b721-4e17-9cbe-9532bf7a77a7",
   "metadata": {},
   "outputs": [
    {
     "data": {
      "text/plain": [
       "'2.2.3'"
      ]
     },
     "execution_count": 3,
     "metadata": {},
     "output_type": "execute_result"
    }
   ],
   "source": [
    "pd.__version__"
   ]
  },
  {
   "cell_type": "code",
   "execution_count": 4,
   "id": "667c20a9-777e-48f0-8993-549a3424a1b6",
   "metadata": {},
   "outputs": [
    {
     "name": "stdout",
     "output_type": "stream",
     "text": [
      "\u001b[33mWARNING: Retrying (Retry(total=4, connect=None, read=None, redirect=None, status=None)) after connection broken by 'NewConnectionError('<pip._vendor.urllib3.connection.HTTPSConnection object at 0x733e3adc4ec0>: Failed to establish a new connection: [Errno -3] Temporary failure in name resolution')': /simple/kagglehub/\u001b[0m\u001b[33m\n",
      "\u001b[33mWARNING: Retrying (Retry(total=3, connect=None, read=None, redirect=None, status=None)) after connection broken by 'NewConnectionError('<pip._vendor.urllib3.connection.HTTPSConnection object at 0x733e3af1de50>: Failed to establish a new connection: [Errno -3] Temporary failure in name resolution')': /simple/kagglehub/\u001b[0m\u001b[33m\n",
      "\u001b[33mWARNING: Retrying (Retry(total=2, connect=None, read=None, redirect=None, status=None)) after connection broken by 'NewConnectionError('<pip._vendor.urllib3.connection.HTTPSConnection object at 0x733e3af1e0d0>: Failed to establish a new connection: [Errno -3] Temporary failure in name resolution')': /simple/kagglehub/\u001b[0m\u001b[33m\n",
      "Collecting kagglehub\n",
      "  Downloading kagglehub-0.3.10-py3-none-any.whl.metadata (31 kB)\n",
      "Requirement already satisfied: packaging in ./venv/lib/python3.13/site-packages (from kagglehub) (24.2)\n",
      "Requirement already satisfied: pyyaml in ./venv/lib/python3.13/site-packages (from kagglehub) (6.0.2)\n",
      "Requirement already satisfied: requests in ./venv/lib/python3.13/site-packages (from kagglehub) (2.32.3)\n",
      "Collecting tqdm (from kagglehub)\n",
      "  Using cached tqdm-4.67.1-py3-none-any.whl.metadata (57 kB)\n",
      "Requirement already satisfied: charset-normalizer<4,>=2 in ./venv/lib/python3.13/site-packages (from requests->kagglehub) (3.4.1)\n",
      "Requirement already satisfied: idna<4,>=2.5 in ./venv/lib/python3.13/site-packages (from requests->kagglehub) (3.10)\n",
      "Requirement already satisfied: urllib3<3,>=1.21.1 in ./venv/lib/python3.13/site-packages (from requests->kagglehub) (2.3.0)\n",
      "Requirement already satisfied: certifi>=2017.4.17 in ./venv/lib/python3.13/site-packages (from requests->kagglehub) (2025.1.31)\n",
      "Downloading kagglehub-0.3.10-py3-none-any.whl (63 kB)\n",
      "Using cached tqdm-4.67.1-py3-none-any.whl (78 kB)\n",
      "Installing collected packages: tqdm, kagglehub\n",
      "Successfully installed kagglehub-0.3.10 tqdm-4.67.1\n"
     ]
    }
   ],
   "source": [
    "!pip install kagglehub"
   ]
  },
  {
   "cell_type": "code",
   "execution_count": 10,
   "id": "0038177d-bc23-4a5b-83b7-d4d9917f62f0",
   "metadata": {},
   "outputs": [],
   "source": [
    "# download the dataset using kagglehub\n",
    "import kagglehub\n",
    "\n",
    "# Download latest version\n",
    "datasetPath = kagglehub.dataset_download(\"tejashvi14/engineering-placements-prediction\")\n",
    "\n",
    "csvFilePath = f\"{datasetPath}/collegePlace.csv\"\n",
    "# print(\"Path to dataset files:\", path)"
   ]
  },
  {
   "cell_type": "code",
   "execution_count": 26,
   "id": "f7cfa956-d1da-4917-acf1-ffee89dd5136",
   "metadata": {},
   "outputs": [],
   "source": [
    "df = pd.read_csv(csvFilePath)\n"
   ]
  },
  {
   "cell_type": "code",
   "execution_count": 27,
   "id": "89075806-1a4b-43b5-8974-8432c55c4eed",
   "metadata": {},
   "outputs": [
    {
     "data": {
      "text/plain": [
       "(2966, 8)"
      ]
     },
     "execution_count": 27,
     "metadata": {},
     "output_type": "execute_result"
    }
   ],
   "source": [
    "df.shape"
   ]
  },
  {
   "cell_type": "code",
   "execution_count": 28,
   "id": "60aa6213-17ac-42de-adfb-233523f1a6aa",
   "metadata": {},
   "outputs": [
    {
     "data": {
      "text/html": [
       "<div>\n",
       "<style scoped>\n",
       "    .dataframe tbody tr th:only-of-type {\n",
       "        vertical-align: middle;\n",
       "    }\n",
       "\n",
       "    .dataframe tbody tr th {\n",
       "        vertical-align: top;\n",
       "    }\n",
       "\n",
       "    .dataframe thead th {\n",
       "        text-align: right;\n",
       "    }\n",
       "</style>\n",
       "<table border=\"1\" class=\"dataframe\">\n",
       "  <thead>\n",
       "    <tr style=\"text-align: right;\">\n",
       "      <th></th>\n",
       "      <th>Age</th>\n",
       "      <th>Gender</th>\n",
       "      <th>Stream</th>\n",
       "      <th>Internships</th>\n",
       "      <th>CGPA</th>\n",
       "      <th>Hostel</th>\n",
       "      <th>HistoryOfBacklogs</th>\n",
       "      <th>PlacedOrNot</th>\n",
       "    </tr>\n",
       "  </thead>\n",
       "  <tbody>\n",
       "    <tr>\n",
       "      <th>0</th>\n",
       "      <td>22</td>\n",
       "      <td>Male</td>\n",
       "      <td>Electronics And Communication</td>\n",
       "      <td>1</td>\n",
       "      <td>8</td>\n",
       "      <td>1</td>\n",
       "      <td>1</td>\n",
       "      <td>1</td>\n",
       "    </tr>\n",
       "    <tr>\n",
       "      <th>1</th>\n",
       "      <td>21</td>\n",
       "      <td>Female</td>\n",
       "      <td>Computer Science</td>\n",
       "      <td>0</td>\n",
       "      <td>7</td>\n",
       "      <td>1</td>\n",
       "      <td>1</td>\n",
       "      <td>1</td>\n",
       "    </tr>\n",
       "    <tr>\n",
       "      <th>2</th>\n",
       "      <td>22</td>\n",
       "      <td>Female</td>\n",
       "      <td>Information Technology</td>\n",
       "      <td>1</td>\n",
       "      <td>6</td>\n",
       "      <td>0</td>\n",
       "      <td>0</td>\n",
       "      <td>1</td>\n",
       "    </tr>\n",
       "    <tr>\n",
       "      <th>3</th>\n",
       "      <td>21</td>\n",
       "      <td>Male</td>\n",
       "      <td>Information Technology</td>\n",
       "      <td>0</td>\n",
       "      <td>8</td>\n",
       "      <td>0</td>\n",
       "      <td>1</td>\n",
       "      <td>1</td>\n",
       "    </tr>\n",
       "    <tr>\n",
       "      <th>4</th>\n",
       "      <td>22</td>\n",
       "      <td>Male</td>\n",
       "      <td>Mechanical</td>\n",
       "      <td>0</td>\n",
       "      <td>8</td>\n",
       "      <td>1</td>\n",
       "      <td>0</td>\n",
       "      <td>1</td>\n",
       "    </tr>\n",
       "  </tbody>\n",
       "</table>\n",
       "</div>"
      ],
      "text/plain": [
       "   Age  Gender                         Stream  Internships  CGPA  Hostel  \\\n",
       "0   22    Male  Electronics And Communication            1     8       1   \n",
       "1   21  Female               Computer Science            0     7       1   \n",
       "2   22  Female         Information Technology            1     6       0   \n",
       "3   21    Male         Information Technology            0     8       0   \n",
       "4   22    Male                     Mechanical            0     8       1   \n",
       "\n",
       "   HistoryOfBacklogs  PlacedOrNot  \n",
       "0                  1            1  \n",
       "1                  1            1  \n",
       "2                  0            1  \n",
       "3                  1            1  \n",
       "4                  0            1  "
      ]
     },
     "execution_count": 28,
     "metadata": {},
     "output_type": "execute_result"
    }
   ],
   "source": [
    "df.head()"
   ]
  },
  {
   "cell_type": "code",
   "execution_count": 29,
   "id": "41962686-bdec-4b4d-8048-95fccfcae48b",
   "metadata": {},
   "outputs": [
    {
     "data": {
      "text/html": [
       "<div>\n",
       "<style scoped>\n",
       "    .dataframe tbody tr th:only-of-type {\n",
       "        vertical-align: middle;\n",
       "    }\n",
       "\n",
       "    .dataframe tbody tr th {\n",
       "        vertical-align: top;\n",
       "    }\n",
       "\n",
       "    .dataframe thead th {\n",
       "        text-align: right;\n",
       "    }\n",
       "</style>\n",
       "<table border=\"1\" class=\"dataframe\">\n",
       "  <thead>\n",
       "    <tr style=\"text-align: right;\">\n",
       "      <th></th>\n",
       "      <th>Age</th>\n",
       "      <th>Gender</th>\n",
       "      <th>Stream</th>\n",
       "      <th>Internships</th>\n",
       "      <th>CGPA</th>\n",
       "      <th>Hostel</th>\n",
       "      <th>HistoryOfBacklogs</th>\n",
       "      <th>PlacedOrNot</th>\n",
       "    </tr>\n",
       "  </thead>\n",
       "  <tbody>\n",
       "    <tr>\n",
       "      <th>2961</th>\n",
       "      <td>23</td>\n",
       "      <td>Male</td>\n",
       "      <td>Information Technology</td>\n",
       "      <td>0</td>\n",
       "      <td>7</td>\n",
       "      <td>0</td>\n",
       "      <td>0</td>\n",
       "      <td>0</td>\n",
       "    </tr>\n",
       "    <tr>\n",
       "      <th>2962</th>\n",
       "      <td>23</td>\n",
       "      <td>Male</td>\n",
       "      <td>Mechanical</td>\n",
       "      <td>1</td>\n",
       "      <td>7</td>\n",
       "      <td>1</td>\n",
       "      <td>0</td>\n",
       "      <td>0</td>\n",
       "    </tr>\n",
       "    <tr>\n",
       "      <th>2963</th>\n",
       "      <td>22</td>\n",
       "      <td>Male</td>\n",
       "      <td>Information Technology</td>\n",
       "      <td>1</td>\n",
       "      <td>7</td>\n",
       "      <td>0</td>\n",
       "      <td>0</td>\n",
       "      <td>0</td>\n",
       "    </tr>\n",
       "    <tr>\n",
       "      <th>2964</th>\n",
       "      <td>22</td>\n",
       "      <td>Male</td>\n",
       "      <td>Computer Science</td>\n",
       "      <td>1</td>\n",
       "      <td>7</td>\n",
       "      <td>0</td>\n",
       "      <td>0</td>\n",
       "      <td>0</td>\n",
       "    </tr>\n",
       "    <tr>\n",
       "      <th>2965</th>\n",
       "      <td>23</td>\n",
       "      <td>Male</td>\n",
       "      <td>Civil</td>\n",
       "      <td>0</td>\n",
       "      <td>8</td>\n",
       "      <td>0</td>\n",
       "      <td>0</td>\n",
       "      <td>1</td>\n",
       "    </tr>\n",
       "  </tbody>\n",
       "</table>\n",
       "</div>"
      ],
      "text/plain": [
       "      Age Gender                  Stream  Internships  CGPA  Hostel  \\\n",
       "2961   23   Male  Information Technology            0     7       0   \n",
       "2962   23   Male              Mechanical            1     7       1   \n",
       "2963   22   Male  Information Technology            1     7       0   \n",
       "2964   22   Male        Computer Science            1     7       0   \n",
       "2965   23   Male                   Civil            0     8       0   \n",
       "\n",
       "      HistoryOfBacklogs  PlacedOrNot  \n",
       "2961                  0            0  \n",
       "2962                  0            0  \n",
       "2963                  0            0  \n",
       "2964                  0            0  \n",
       "2965                  0            1  "
      ]
     },
     "execution_count": 29,
     "metadata": {},
     "output_type": "execute_result"
    }
   ],
   "source": [
    "df.tail()"
   ]
  },
  {
   "cell_type": "code",
   "execution_count": 30,
   "id": "e3cc9829-3a6f-4eb8-a40f-dfd3e46700f6",
   "metadata": {},
   "outputs": [
    {
     "data": {
      "text/html": [
       "<div>\n",
       "<style scoped>\n",
       "    .dataframe tbody tr th:only-of-type {\n",
       "        vertical-align: middle;\n",
       "    }\n",
       "\n",
       "    .dataframe tbody tr th {\n",
       "        vertical-align: top;\n",
       "    }\n",
       "\n",
       "    .dataframe thead th {\n",
       "        text-align: right;\n",
       "    }\n",
       "</style>\n",
       "<table border=\"1\" class=\"dataframe\">\n",
       "  <thead>\n",
       "    <tr style=\"text-align: right;\">\n",
       "      <th></th>\n",
       "      <th>Age</th>\n",
       "      <th>Gender</th>\n",
       "      <th>Stream</th>\n",
       "      <th>Internships</th>\n",
       "      <th>CGPA</th>\n",
       "      <th>Hostel</th>\n",
       "      <th>HistoryOfBacklogs</th>\n",
       "      <th>PlacedOrNot</th>\n",
       "    </tr>\n",
       "  </thead>\n",
       "  <tbody>\n",
       "    <tr>\n",
       "      <th>492</th>\n",
       "      <td>21</td>\n",
       "      <td>Male</td>\n",
       "      <td>Information Technology</td>\n",
       "      <td>1</td>\n",
       "      <td>8</td>\n",
       "      <td>0</td>\n",
       "      <td>0</td>\n",
       "      <td>1</td>\n",
       "    </tr>\n",
       "    <tr>\n",
       "      <th>1658</th>\n",
       "      <td>22</td>\n",
       "      <td>Male</td>\n",
       "      <td>Electronics And Communication</td>\n",
       "      <td>1</td>\n",
       "      <td>8</td>\n",
       "      <td>0</td>\n",
       "      <td>0</td>\n",
       "      <td>1</td>\n",
       "    </tr>\n",
       "    <tr>\n",
       "      <th>2706</th>\n",
       "      <td>20</td>\n",
       "      <td>Male</td>\n",
       "      <td>Mechanical</td>\n",
       "      <td>0</td>\n",
       "      <td>7</td>\n",
       "      <td>1</td>\n",
       "      <td>1</td>\n",
       "      <td>0</td>\n",
       "    </tr>\n",
       "    <tr>\n",
       "      <th>1302</th>\n",
       "      <td>24</td>\n",
       "      <td>Male</td>\n",
       "      <td>Information Technology</td>\n",
       "      <td>1</td>\n",
       "      <td>6</td>\n",
       "      <td>0</td>\n",
       "      <td>1</td>\n",
       "      <td>1</td>\n",
       "    </tr>\n",
       "  </tbody>\n",
       "</table>\n",
       "</div>"
      ],
      "text/plain": [
       "      Age Gender                         Stream  Internships  CGPA  Hostel  \\\n",
       "492    21   Male         Information Technology            1     8       0   \n",
       "1658   22   Male  Electronics And Communication            1     8       0   \n",
       "2706   20   Male                     Mechanical            0     7       1   \n",
       "1302   24   Male         Information Technology            1     6       0   \n",
       "\n",
       "      HistoryOfBacklogs  PlacedOrNot  \n",
       "492                   0            1  \n",
       "1658                  0            1  \n",
       "2706                  1            0  \n",
       "1302                  1            1  "
      ]
     },
     "execution_count": 30,
     "metadata": {},
     "output_type": "execute_result"
    }
   ],
   "source": [
    "df.sample(4)"
   ]
  },
  {
   "cell_type": "code",
   "execution_count": 31,
   "id": "00449e68-145e-4d46-8002-af318c847f58",
   "metadata": {},
   "outputs": [
    {
     "data": {
      "text/plain": [
       "Age                   int64\n",
       "Gender               object\n",
       "Stream               object\n",
       "Internships           int64\n",
       "CGPA                  int64\n",
       "Hostel                int64\n",
       "HistoryOfBacklogs     int64\n",
       "PlacedOrNot           int64\n",
       "dtype: object"
      ]
     },
     "execution_count": 31,
     "metadata": {},
     "output_type": "execute_result"
    }
   ],
   "source": [
    "df.dtypes"
   ]
  },
  {
   "cell_type": "code",
   "execution_count": 32,
   "id": "235f363e-1cd7-44b9-a232-547da9ac0f41",
   "metadata": {},
   "outputs": [
    {
     "name": "stdout",
     "output_type": "stream",
     "text": [
      "<class 'pandas.core.frame.DataFrame'>\n",
      "RangeIndex: 2966 entries, 0 to 2965\n",
      "Data columns (total 8 columns):\n",
      " #   Column             Non-Null Count  Dtype \n",
      "---  ------             --------------  ----- \n",
      " 0   Age                2966 non-null   int64 \n",
      " 1   Gender             2966 non-null   object\n",
      " 2   Stream             2966 non-null   object\n",
      " 3   Internships        2966 non-null   int64 \n",
      " 4   CGPA               2966 non-null   int64 \n",
      " 5   Hostel             2966 non-null   int64 \n",
      " 6   HistoryOfBacklogs  2966 non-null   int64 \n",
      " 7   PlacedOrNot        2966 non-null   int64 \n",
      "dtypes: int64(6), object(2)\n",
      "memory usage: 185.5+ KB\n"
     ]
    }
   ],
   "source": [
    "df.info()"
   ]
  },
  {
   "cell_type": "code",
   "execution_count": 33,
   "id": "f5c32115-1aca-48a2-90b9-197b8c8e2d2e",
   "metadata": {},
   "outputs": [
    {
     "data": {
      "text/html": [
       "<div>\n",
       "<style scoped>\n",
       "    .dataframe tbody tr th:only-of-type {\n",
       "        vertical-align: middle;\n",
       "    }\n",
       "\n",
       "    .dataframe tbody tr th {\n",
       "        vertical-align: top;\n",
       "    }\n",
       "\n",
       "    .dataframe thead th {\n",
       "        text-align: right;\n",
       "    }\n",
       "</style>\n",
       "<table border=\"1\" class=\"dataframe\">\n",
       "  <thead>\n",
       "    <tr style=\"text-align: right;\">\n",
       "      <th></th>\n",
       "      <th>Age</th>\n",
       "      <th>Internships</th>\n",
       "      <th>CGPA</th>\n",
       "      <th>Hostel</th>\n",
       "      <th>HistoryOfBacklogs</th>\n",
       "      <th>PlacedOrNot</th>\n",
       "    </tr>\n",
       "  </thead>\n",
       "  <tbody>\n",
       "    <tr>\n",
       "      <th>count</th>\n",
       "      <td>2966.000000</td>\n",
       "      <td>2966.000000</td>\n",
       "      <td>2966.000000</td>\n",
       "      <td>2966.000000</td>\n",
       "      <td>2966.000000</td>\n",
       "      <td>2966.000000</td>\n",
       "    </tr>\n",
       "    <tr>\n",
       "      <th>mean</th>\n",
       "      <td>21.485840</td>\n",
       "      <td>0.703641</td>\n",
       "      <td>7.073837</td>\n",
       "      <td>0.269049</td>\n",
       "      <td>0.192178</td>\n",
       "      <td>0.552596</td>\n",
       "    </tr>\n",
       "    <tr>\n",
       "      <th>std</th>\n",
       "      <td>1.324933</td>\n",
       "      <td>0.740197</td>\n",
       "      <td>0.967748</td>\n",
       "      <td>0.443540</td>\n",
       "      <td>0.394079</td>\n",
       "      <td>0.497310</td>\n",
       "    </tr>\n",
       "    <tr>\n",
       "      <th>min</th>\n",
       "      <td>19.000000</td>\n",
       "      <td>0.000000</td>\n",
       "      <td>5.000000</td>\n",
       "      <td>0.000000</td>\n",
       "      <td>0.000000</td>\n",
       "      <td>0.000000</td>\n",
       "    </tr>\n",
       "    <tr>\n",
       "      <th>25%</th>\n",
       "      <td>21.000000</td>\n",
       "      <td>0.000000</td>\n",
       "      <td>6.000000</td>\n",
       "      <td>0.000000</td>\n",
       "      <td>0.000000</td>\n",
       "      <td>0.000000</td>\n",
       "    </tr>\n",
       "    <tr>\n",
       "      <th>50%</th>\n",
       "      <td>21.000000</td>\n",
       "      <td>1.000000</td>\n",
       "      <td>7.000000</td>\n",
       "      <td>0.000000</td>\n",
       "      <td>0.000000</td>\n",
       "      <td>1.000000</td>\n",
       "    </tr>\n",
       "    <tr>\n",
       "      <th>75%</th>\n",
       "      <td>22.000000</td>\n",
       "      <td>1.000000</td>\n",
       "      <td>8.000000</td>\n",
       "      <td>1.000000</td>\n",
       "      <td>0.000000</td>\n",
       "      <td>1.000000</td>\n",
       "    </tr>\n",
       "    <tr>\n",
       "      <th>max</th>\n",
       "      <td>30.000000</td>\n",
       "      <td>3.000000</td>\n",
       "      <td>9.000000</td>\n",
       "      <td>1.000000</td>\n",
       "      <td>1.000000</td>\n",
       "      <td>1.000000</td>\n",
       "    </tr>\n",
       "  </tbody>\n",
       "</table>\n",
       "</div>"
      ],
      "text/plain": [
       "               Age  Internships         CGPA       Hostel  HistoryOfBacklogs  \\\n",
       "count  2966.000000  2966.000000  2966.000000  2966.000000        2966.000000   \n",
       "mean     21.485840     0.703641     7.073837     0.269049           0.192178   \n",
       "std       1.324933     0.740197     0.967748     0.443540           0.394079   \n",
       "min      19.000000     0.000000     5.000000     0.000000           0.000000   \n",
       "25%      21.000000     0.000000     6.000000     0.000000           0.000000   \n",
       "50%      21.000000     1.000000     7.000000     0.000000           0.000000   \n",
       "75%      22.000000     1.000000     8.000000     1.000000           0.000000   \n",
       "max      30.000000     3.000000     9.000000     1.000000           1.000000   \n",
       "\n",
       "       PlacedOrNot  \n",
       "count  2966.000000  \n",
       "mean      0.552596  \n",
       "std       0.497310  \n",
       "min       0.000000  \n",
       "25%       0.000000  \n",
       "50%       1.000000  \n",
       "75%       1.000000  \n",
       "max       1.000000  "
      ]
     },
     "execution_count": 33,
     "metadata": {},
     "output_type": "execute_result"
    }
   ],
   "source": [
    "df.describe()"
   ]
  },
  {
   "cell_type": "code",
   "execution_count": 35,
   "id": "5239af83-cf0d-4114-b5e2-ba5682094554",
   "metadata": {},
   "outputs": [],
   "source": [
    "# Only works if you use pandas version 1.3.5\n",
    "#df.corr()['PlacedOrNot']"
   ]
  },
  {
   "cell_type": "code",
   "execution_count": 62,
   "id": "34452cce-ddfc-4b17-a56c-4ee71094cf12",
   "metadata": {},
   "outputs": [],
   "source": [
    "nsDf = df.drop( ['Stream','Gender'], axis=1)"
   ]
  },
  {
   "cell_type": "code",
   "execution_count": 63,
   "id": "ea130c5b-c327-4d8a-b64f-50938cd4228b",
   "metadata": {},
   "outputs": [
    {
     "data": {
      "text/html": [
       "<div>\n",
       "<style scoped>\n",
       "    .dataframe tbody tr th:only-of-type {\n",
       "        vertical-align: middle;\n",
       "    }\n",
       "\n",
       "    .dataframe tbody tr th {\n",
       "        vertical-align: top;\n",
       "    }\n",
       "\n",
       "    .dataframe thead th {\n",
       "        text-align: right;\n",
       "    }\n",
       "</style>\n",
       "<table border=\"1\" class=\"dataframe\">\n",
       "  <thead>\n",
       "    <tr style=\"text-align: right;\">\n",
       "      <th></th>\n",
       "      <th>Age</th>\n",
       "      <th>Internships</th>\n",
       "      <th>CGPA</th>\n",
       "      <th>Hostel</th>\n",
       "      <th>HistoryOfBacklogs</th>\n",
       "      <th>PlacedOrNot</th>\n",
       "    </tr>\n",
       "  </thead>\n",
       "  <tbody>\n",
       "    <tr>\n",
       "      <th>0</th>\n",
       "      <td>22</td>\n",
       "      <td>1</td>\n",
       "      <td>8</td>\n",
       "      <td>1</td>\n",
       "      <td>1</td>\n",
       "      <td>1</td>\n",
       "    </tr>\n",
       "    <tr>\n",
       "      <th>1</th>\n",
       "      <td>21</td>\n",
       "      <td>0</td>\n",
       "      <td>7</td>\n",
       "      <td>1</td>\n",
       "      <td>1</td>\n",
       "      <td>1</td>\n",
       "    </tr>\n",
       "    <tr>\n",
       "      <th>2</th>\n",
       "      <td>22</td>\n",
       "      <td>1</td>\n",
       "      <td>6</td>\n",
       "      <td>0</td>\n",
       "      <td>0</td>\n",
       "      <td>1</td>\n",
       "    </tr>\n",
       "    <tr>\n",
       "      <th>3</th>\n",
       "      <td>21</td>\n",
       "      <td>0</td>\n",
       "      <td>8</td>\n",
       "      <td>0</td>\n",
       "      <td>1</td>\n",
       "      <td>1</td>\n",
       "    </tr>\n",
       "    <tr>\n",
       "      <th>4</th>\n",
       "      <td>22</td>\n",
       "      <td>0</td>\n",
       "      <td>8</td>\n",
       "      <td>1</td>\n",
       "      <td>0</td>\n",
       "      <td>1</td>\n",
       "    </tr>\n",
       "    <tr>\n",
       "      <th>...</th>\n",
       "      <td>...</td>\n",
       "      <td>...</td>\n",
       "      <td>...</td>\n",
       "      <td>...</td>\n",
       "      <td>...</td>\n",
       "      <td>...</td>\n",
       "    </tr>\n",
       "    <tr>\n",
       "      <th>2961</th>\n",
       "      <td>23</td>\n",
       "      <td>0</td>\n",
       "      <td>7</td>\n",
       "      <td>0</td>\n",
       "      <td>0</td>\n",
       "      <td>0</td>\n",
       "    </tr>\n",
       "    <tr>\n",
       "      <th>2962</th>\n",
       "      <td>23</td>\n",
       "      <td>1</td>\n",
       "      <td>7</td>\n",
       "      <td>1</td>\n",
       "      <td>0</td>\n",
       "      <td>0</td>\n",
       "    </tr>\n",
       "    <tr>\n",
       "      <th>2963</th>\n",
       "      <td>22</td>\n",
       "      <td>1</td>\n",
       "      <td>7</td>\n",
       "      <td>0</td>\n",
       "      <td>0</td>\n",
       "      <td>0</td>\n",
       "    </tr>\n",
       "    <tr>\n",
       "      <th>2964</th>\n",
       "      <td>22</td>\n",
       "      <td>1</td>\n",
       "      <td>7</td>\n",
       "      <td>0</td>\n",
       "      <td>0</td>\n",
       "      <td>0</td>\n",
       "    </tr>\n",
       "    <tr>\n",
       "      <th>2965</th>\n",
       "      <td>23</td>\n",
       "      <td>0</td>\n",
       "      <td>8</td>\n",
       "      <td>0</td>\n",
       "      <td>0</td>\n",
       "      <td>1</td>\n",
       "    </tr>\n",
       "  </tbody>\n",
       "</table>\n",
       "<p>2966 rows × 6 columns</p>\n",
       "</div>"
      ],
      "text/plain": [
       "      Age  Internships  CGPA  Hostel  HistoryOfBacklogs  PlacedOrNot\n",
       "0      22            1     8       1                  1            1\n",
       "1      21            0     7       1                  1            1\n",
       "2      22            1     6       0                  0            1\n",
       "3      21            0     8       0                  1            1\n",
       "4      22            0     8       1                  0            1\n",
       "...   ...          ...   ...     ...                ...          ...\n",
       "2961   23            0     7       0                  0            0\n",
       "2962   23            1     7       1                  0            0\n",
       "2963   22            1     7       0                  0            0\n",
       "2964   22            1     7       0                  0            0\n",
       "2965   23            0     8       0                  0            1\n",
       "\n",
       "[2966 rows x 6 columns]"
      ]
     },
     "execution_count": 63,
     "metadata": {},
     "output_type": "execute_result"
    }
   ],
   "source": [
    "nsDf"
   ]
  },
  {
   "cell_type": "code",
   "execution_count": 64,
   "id": "a344c12b-2cc5-4b36-8129-144fa050cd87",
   "metadata": {},
   "outputs": [
    {
     "data": {
      "text/plain": [
       "Index(['Age', 'Internships', 'CGPA', 'Hostel', 'HistoryOfBacklogs',\n",
       "       'PlacedOrNot'],\n",
       "      dtype='object')"
      ]
     },
     "execution_count": 64,
     "metadata": {},
     "output_type": "execute_result"
    }
   ],
   "source": [
    "nsDf.columns"
   ]
  },
  {
   "cell_type": "code",
   "execution_count": 65,
   "id": "a40a65d4-d580-4787-b11b-e1e9f9d88417",
   "metadata": {},
   "outputs": [
    {
     "data": {
      "text/plain": [
       "Age                  int64\n",
       "Internships          int64\n",
       "CGPA                 int64\n",
       "Hostel               int64\n",
       "HistoryOfBacklogs    int64\n",
       "PlacedOrNot          int64\n",
       "dtype: object"
      ]
     },
     "execution_count": 65,
     "metadata": {},
     "output_type": "execute_result"
    }
   ],
   "source": [
    "nsDf.dtypes"
   ]
  },
  {
   "cell_type": "code",
   "execution_count": 66,
   "id": "3df6b5e8-cf89-446c-bb49-f0f1464645e6",
   "metadata": {},
   "outputs": [
    {
     "name": "stdout",
     "output_type": "stream",
     "text": [
      "<class 'pandas.core.frame.DataFrame'>\n",
      "RangeIndex: 2966 entries, 0 to 2965\n",
      "Data columns (total 6 columns):\n",
      " #   Column             Non-Null Count  Dtype\n",
      "---  ------             --------------  -----\n",
      " 0   Age                2966 non-null   int64\n",
      " 1   Internships        2966 non-null   int64\n",
      " 2   CGPA               2966 non-null   int64\n",
      " 3   Hostel             2966 non-null   int64\n",
      " 4   HistoryOfBacklogs  2966 non-null   int64\n",
      " 5   PlacedOrNot        2966 non-null   int64\n",
      "dtypes: int64(6)\n",
      "memory usage: 139.2 KB\n"
     ]
    }
   ],
   "source": [
    "nsDf.info()"
   ]
  },
  {
   "cell_type": "code",
   "execution_count": 67,
   "id": "d6c90869-2963-4f90-8470-72647edbaf16",
   "metadata": {},
   "outputs": [
    {
     "data": {
      "text/html": [
       "<div>\n",
       "<style scoped>\n",
       "    .dataframe tbody tr th:only-of-type {\n",
       "        vertical-align: middle;\n",
       "    }\n",
       "\n",
       "    .dataframe tbody tr th {\n",
       "        vertical-align: top;\n",
       "    }\n",
       "\n",
       "    .dataframe thead th {\n",
       "        text-align: right;\n",
       "    }\n",
       "</style>\n",
       "<table border=\"1\" class=\"dataframe\">\n",
       "  <thead>\n",
       "    <tr style=\"text-align: right;\">\n",
       "      <th></th>\n",
       "      <th>Age</th>\n",
       "      <th>Internships</th>\n",
       "      <th>CGPA</th>\n",
       "      <th>Hostel</th>\n",
       "      <th>HistoryOfBacklogs</th>\n",
       "      <th>PlacedOrNot</th>\n",
       "    </tr>\n",
       "  </thead>\n",
       "  <tbody>\n",
       "    <tr>\n",
       "      <th>count</th>\n",
       "      <td>2966.000000</td>\n",
       "      <td>2966.000000</td>\n",
       "      <td>2966.000000</td>\n",
       "      <td>2966.000000</td>\n",
       "      <td>2966.000000</td>\n",
       "      <td>2966.000000</td>\n",
       "    </tr>\n",
       "    <tr>\n",
       "      <th>mean</th>\n",
       "      <td>21.485840</td>\n",
       "      <td>0.703641</td>\n",
       "      <td>7.073837</td>\n",
       "      <td>0.269049</td>\n",
       "      <td>0.192178</td>\n",
       "      <td>0.552596</td>\n",
       "    </tr>\n",
       "    <tr>\n",
       "      <th>std</th>\n",
       "      <td>1.324933</td>\n",
       "      <td>0.740197</td>\n",
       "      <td>0.967748</td>\n",
       "      <td>0.443540</td>\n",
       "      <td>0.394079</td>\n",
       "      <td>0.497310</td>\n",
       "    </tr>\n",
       "    <tr>\n",
       "      <th>min</th>\n",
       "      <td>19.000000</td>\n",
       "      <td>0.000000</td>\n",
       "      <td>5.000000</td>\n",
       "      <td>0.000000</td>\n",
       "      <td>0.000000</td>\n",
       "      <td>0.000000</td>\n",
       "    </tr>\n",
       "    <tr>\n",
       "      <th>25%</th>\n",
       "      <td>21.000000</td>\n",
       "      <td>0.000000</td>\n",
       "      <td>6.000000</td>\n",
       "      <td>0.000000</td>\n",
       "      <td>0.000000</td>\n",
       "      <td>0.000000</td>\n",
       "    </tr>\n",
       "    <tr>\n",
       "      <th>50%</th>\n",
       "      <td>21.000000</td>\n",
       "      <td>1.000000</td>\n",
       "      <td>7.000000</td>\n",
       "      <td>0.000000</td>\n",
       "      <td>0.000000</td>\n",
       "      <td>1.000000</td>\n",
       "    </tr>\n",
       "    <tr>\n",
       "      <th>75%</th>\n",
       "      <td>22.000000</td>\n",
       "      <td>1.000000</td>\n",
       "      <td>8.000000</td>\n",
       "      <td>1.000000</td>\n",
       "      <td>0.000000</td>\n",
       "      <td>1.000000</td>\n",
       "    </tr>\n",
       "    <tr>\n",
       "      <th>max</th>\n",
       "      <td>30.000000</td>\n",
       "      <td>3.000000</td>\n",
       "      <td>9.000000</td>\n",
       "      <td>1.000000</td>\n",
       "      <td>1.000000</td>\n",
       "      <td>1.000000</td>\n",
       "    </tr>\n",
       "  </tbody>\n",
       "</table>\n",
       "</div>"
      ],
      "text/plain": [
       "               Age  Internships         CGPA       Hostel  HistoryOfBacklogs  \\\n",
       "count  2966.000000  2966.000000  2966.000000  2966.000000        2966.000000   \n",
       "mean     21.485840     0.703641     7.073837     0.269049           0.192178   \n",
       "std       1.324933     0.740197     0.967748     0.443540           0.394079   \n",
       "min      19.000000     0.000000     5.000000     0.000000           0.000000   \n",
       "25%      21.000000     0.000000     6.000000     0.000000           0.000000   \n",
       "50%      21.000000     1.000000     7.000000     0.000000           0.000000   \n",
       "75%      22.000000     1.000000     8.000000     1.000000           0.000000   \n",
       "max      30.000000     3.000000     9.000000     1.000000           1.000000   \n",
       "\n",
       "       PlacedOrNot  \n",
       "count  2966.000000  \n",
       "mean      0.552596  \n",
       "std       0.497310  \n",
       "min       0.000000  \n",
       "25%       0.000000  \n",
       "50%       1.000000  \n",
       "75%       1.000000  \n",
       "max       1.000000  "
      ]
     },
     "execution_count": 67,
     "metadata": {},
     "output_type": "execute_result"
    }
   ],
   "source": [
    "nsDf.describe()"
   ]
  },
  {
   "cell_type": "markdown",
   "id": "269a0750-3357-4d1e-99cc-56d35cfc9a23",
   "metadata": {},
   "source": [
    "- How is the correlation between features(other Colms) and target col"
   ]
  },
  {
   "cell_type": "code",
   "execution_count": 68,
   "id": "cef314d9-896e-4b7b-8e0e-b1c76ac61e6a",
   "metadata": {},
   "outputs": [
    {
     "data": {
      "text/plain": [
       "Age                  0.046943\n",
       "Internships          0.179334\n",
       "CGPA                 0.588648\n",
       "Hostel              -0.038182\n",
       "HistoryOfBacklogs   -0.022337\n",
       "PlacedOrNot          1.000000\n",
       "Name: PlacedOrNot, dtype: float64"
      ]
     },
     "execution_count": 68,
     "metadata": {},
     "output_type": "execute_result"
    }
   ],
   "source": [
    "nsDf.corr()['PlacedOrNot']"
   ]
  },
  {
   "cell_type": "markdown",
   "id": "90461521-397e-48f4-b922-2927b9aa3664",
   "metadata": {},
   "source": [
    "\n",
    "# Preprocessing + EDA + Feature Selection\n",
    "## Preprocessing\n",
    "### Basic Preprocessing:\n",
    "1. Check if the dataframe has any null values, handle if present.\n",
    "2. Check if there is any duplicate row in the datafame, handle if present.\n",
    "1. Are there any missing values?"
   ]
  },
  {
   "cell_type": "code",
   "execution_count": 69,
   "id": "fa6e954b-4b3b-4f5f-8ca5-93ffb3e1da73",
   "metadata": {},
   "outputs": [
    {
     "data": {
      "text/plain": [
       "Age                  0\n",
       "Internships          0\n",
       "CGPA                 0\n",
       "Hostel               0\n",
       "HistoryOfBacklogs    0\n",
       "PlacedOrNot          0\n",
       "dtype: int64"
      ]
     },
     "execution_count": 69,
     "metadata": {},
     "output_type": "execute_result"
    }
   ],
   "source": [
    "nsDf.isnull().sum()"
   ]
  },
  {
   "cell_type": "code",
   "execution_count": 71,
   "id": "f2f6b0d1-9cde-4ecb-9918-c7a24939ac22",
   "metadata": {},
   "outputs": [
    {
     "name": "stdout",
     "output_type": "stream",
     "text": [
      "2541\n"
     ]
    }
   ],
   "source": [
    "# check for duplicate values\n",
    "print( nsDf.duplicated().sum())\n",
    "\n",
    "nsDf.drop_duplicates(inplace=True)"
   ]
  },
  {
   "cell_type": "code",
   "execution_count": 72,
   "id": "05ffef11-ad0b-4e3c-8d6d-c9570709ac62",
   "metadata": {},
   "outputs": [
    {
     "name": "stdout",
     "output_type": "stream",
     "text": [
      "0\n"
     ]
    }
   ],
   "source": [
    "# check if  duplicate values are removed\n",
    "print( nsDf.duplicated().sum())"
   ]
  },
  {
   "cell_type": "markdown",
   "id": "b4e37516-fe21-47bd-bed3-5816ddeee6fd",
   "metadata": {},
   "source": [
    "\n",
    "# EDA\n",
    "1. Plot the graph to visualize the output wrt 2 major features"
   ]
  },
  {
   "cell_type": "code",
   "execution_count": 84,
   "id": "6f20652f-3d72-418d-8540-e3cd434d12aa",
   "metadata": {},
   "outputs": [],
   "source": [
    "fig  = px.scatter(nsDf,x='CGPA', y='Internships', color=\"PlacedOrNot\", hover_data=['CGPA'])"
   ]
  },
  {
   "cell_type": "code",
   "execution_count": 85,
   "id": "d43c4cbc-8ae6-4526-89a1-254da1b5fe96",
   "metadata": {},
   "outputs": [
    {
     "data": {
      "text/html": [
       "<iframe\n",
       "    scrolling=\"no\"\n",
       "    width=\"100%\"\n",
       "    height=\"545px\"\n",
       "    src=\"iframe_figures/figure_85.html\"\n",
       "    frameborder=\"0\"\n",
       "    allowfullscreen\n",
       "></iframe>\n"
      ]
     },
     "metadata": {},
     "output_type": "display_data"
    }
   ],
   "source": [
    "fig.show()"
   ]
  },
  {
   "cell_type": "markdown",
   "id": "6d2ff2bd-811e-4cb2-9b7c-2425062e3a2b",
   "metadata": {},
   "source": [
    "### Plot the count of placed and not placed Histogram"
   ]
  },
  {
   "cell_type": "code",
   "execution_count": 79,
   "id": "b37ee02e-9f3c-4682-9c16-e884a711a5fd",
   "metadata": {},
   "outputs": [
    {
     "data": {
      "text/html": [
       "<iframe\n",
       "    scrolling=\"no\"\n",
       "    width=\"100%\"\n",
       "    height=\"545px\"\n",
       "    src=\"iframe_figures/figure_79.html\"\n",
       "    frameborder=\"0\"\n",
       "    allowfullscreen\n",
       "></iframe>\n"
      ]
     },
     "metadata": {},
     "output_type": "display_data"
    }
   ],
   "source": [
    "fig = px.histogram(nsDf, x='PlacedOrNot', color='PlacedOrNot', barmode='group')\n",
    "fig.show()"
   ]
  },
  {
   "cell_type": "code",
   "execution_count": 98,
   "id": "7c5462a0-1378-45f3-819d-6f372a3814f2",
   "metadata": {},
   "outputs": [],
   "source": [
    "fig = px.pie(nsDf, values=nsDf['PlacedOrNot'].value_counts().values, names=['Placed','Not placed'],title='Placed Vs Not Placed')"
   ]
  },
  {
   "cell_type": "code",
   "execution_count": 99,
   "id": "db77ab7e-545c-4580-b33c-dd6714d17d13",
   "metadata": {},
   "outputs": [
    {
     "data": {
      "text/html": [
       "<iframe\n",
       "    scrolling=\"no\"\n",
       "    width=\"100%\"\n",
       "    height=\"545px\"\n",
       "    src=\"iframe_figures/figure_99.html\"\n",
       "    frameborder=\"0\"\n",
       "    allowfullscreen\n",
       "></iframe>\n"
      ]
     },
     "metadata": {},
     "output_type": "display_data"
    }
   ],
   "source": [
    "fig.show()"
   ]
  },
  {
   "cell_type": "code",
   "execution_count": 95,
   "id": "d955ace7-ccda-4daf-80ad-97272a878a28",
   "metadata": {},
   "outputs": [
    {
     "data": {
      "text/plain": [
       "array([1, 0])"
      ]
     },
     "execution_count": 95,
     "metadata": {},
     "output_type": "execute_result"
    }
   ],
   "source": [
    "nsDf['PlacedOrNot'].value_counts().index.values"
   ]
  },
  {
   "cell_type": "code",
   "execution_count": 107,
   "id": "2259917a-83cd-4b75-8c04-3ae544ff5fd1",
   "metadata": {},
   "outputs": [
    {
     "name": "stdout",
     "output_type": "stream",
     "text": [
      "max age of Placed person:  30\n",
      "Min Age of Placed Person:  19\n"
     ]
    }
   ],
   "source": [
    "print(\"max age of Placed person: \", nsDf[(nsDf['Age'] == nsDf['Age'].max()) & (nsDf['PlacedOrNot']==1)]['Age'].values[0] )\n",
    "print(\"Min Age of Placed Person: \",nsDf[(nsDf['Age'] == nsDf['Age'].min()) & (nsDf['PlacedOrNot']==1)]['Age'].values[0])"
   ]
  },
  {
   "cell_type": "code",
   "execution_count": 110,
   "id": "427d8856-59c9-4fd1-bd61-395c50b4549b",
   "metadata": {},
   "outputs": [
    {
     "name": "stdout",
     "output_type": "stream",
     "text": [
      "Max Internships Done by the Placed Student:  3\n",
      "No of students who did max Internships and are placed:  41\n",
      "Min Internships Done by the Placed Person:  0\n",
      "No of students who did min Internships and are placed:  654\n"
     ]
    }
   ],
   "source": [
    "print(\"Max Internships Done by the Placed Student: \",df[(df['Internships'] == df['Internships'].max()) & (df['PlacedOrNot']==1)]['Internships'].values[0])\n",
    "print(\"No of students who did max Internships and are placed: \",df[(df['Internships'] == df['Internships'].max()) & (df['PlacedOrNot']==1)]['Internships'].value_counts().values[0])\n",
    "\n",
    "print(\"Min Internships Done by the Placed Person: \",df[(df['Internships'] == df['Internships'].min()) & (df['PlacedOrNot']==1)]['Internships'].values[0])\n",
    "print(\"No of students who did min Internships and are placed: \",df[(df['Internships'] == df['Internships'].min()) & (df['PlacedOrNot']==1)]['Internships'].value_counts().values[0])\n"
   ]
  },
  {
   "cell_type": "code",
   "execution_count": 111,
   "id": "ed9c3a33-0298-48a1-96e6-79e2e54dc4d1",
   "metadata": {},
   "outputs": [
    {
     "name": "stdout",
     "output_type": "stream",
     "text": [
      "Max CGPA of Placed Student:  9\n",
      "No of students has max CGPA and are placed:  165\n",
      "Min CGPA of Placed Person:  5\n",
      "No of students has min CGPA and are placed:  7\n"
     ]
    }
   ],
   "source": [
    "print(\"Max CGPA of Placed Student: \",df[(df['CGPA'] == df['CGPA'].max()) & (df['PlacedOrNot']==1)]['CGPA'].values[0])\n",
    "print(\"No of students has max CGPA and are placed: \",df[(df['CGPA'] == df['CGPA'].max()) & (df['PlacedOrNot']==1)]['CGPA'].value_counts().values[0])\n",
    "\n",
    "print(\"Min CGPA of Placed Person: \",df[(df['CGPA'] == df['CGPA'].min()) & (df['PlacedOrNot']==1)]['CGPA'].values[0])\n",
    "print(\"No of students has min CGPA and are placed: \",df[(df['CGPA'] == df['CGPA'].min()) & (df['PlacedOrNot']==1)]['CGPA'].value_counts().values[0])\n"
   ]
  },
  {
   "cell_type": "code",
   "execution_count": 112,
   "id": "6d29ca1f-08c6-4cb7-8943-9188024436ce",
   "metadata": {},
   "outputs": [
    {
     "data": {
      "text/html": [
       "<iframe\n",
       "    scrolling=\"no\"\n",
       "    width=\"100%\"\n",
       "    height=\"545px\"\n",
       "    src=\"iframe_figures/figure_112.html\"\n",
       "    frameborder=\"0\"\n",
       "    allowfullscreen\n",
       "></iframe>\n"
      ]
     },
     "metadata": {},
     "output_type": "display_data"
    }
   ],
   "source": [
    "fig = px.box(df, y='CGPA')\n",
    "fig.show()\n"
   ]
  },
  {
   "cell_type": "code",
   "execution_count": 113,
   "id": "3a1016a2-2075-4db9-9361-7111aaf440ee",
   "metadata": {},
   "outputs": [
    {
     "data": {
      "text/html": [
       "<iframe\n",
       "    scrolling=\"no\"\n",
       "    width=\"100%\"\n",
       "    height=\"545px\"\n",
       "    src=\"iframe_figures/figure_113.html\"\n",
       "    frameborder=\"0\"\n",
       "    allowfullscreen\n",
       "></iframe>\n"
      ]
     },
     "metadata": {},
     "output_type": "display_data"
    }
   ],
   "source": [
    "fig = px.box(df, y='Age')\n",
    "fig.show()"
   ]
  },
  {
   "cell_type": "code",
   "execution_count": 114,
   "id": "6f3586af-2c30-4859-b6e1-e11e51c0143f",
   "metadata": {},
   "outputs": [
    {
     "data": {
      "text/html": [
       "<iframe\n",
       "    scrolling=\"no\"\n",
       "    width=\"100%\"\n",
       "    height=\"545px\"\n",
       "    src=\"iframe_figures/figure_114.html\"\n",
       "    frameborder=\"0\"\n",
       "    allowfullscreen\n",
       "></iframe>\n"
      ]
     },
     "metadata": {},
     "output_type": "display_data"
    }
   ],
   "source": [
    "\n",
    "\n",
    "fig = px.box(df, y=['Internships','CGPA', 'Age'])\n",
    "fig.show()\n",
    "\n"
   ]
  },
  {
   "cell_type": "code",
   "execution_count": 115,
   "id": "e1531013-1d7e-409b-8b8d-118a4b253265",
   "metadata": {},
   "outputs": [],
   "source": [
    "\n",
    "\n",
    "# convert Gender column to numeric\n",
    "df['Gender'] = df['Gender'].map({'Male': 1, 'Female': 0})\n",
    "\n"
   ]
  },
  {
   "cell_type": "code",
   "execution_count": 116,
   "id": "41299e81-b95f-44dd-900e-053f1bd74579",
   "metadata": {},
   "outputs": [
    {
     "data": {
      "text/html": [
       "<div>\n",
       "<style scoped>\n",
       "    .dataframe tbody tr th:only-of-type {\n",
       "        vertical-align: middle;\n",
       "    }\n",
       "\n",
       "    .dataframe tbody tr th {\n",
       "        vertical-align: top;\n",
       "    }\n",
       "\n",
       "    .dataframe thead th {\n",
       "        text-align: right;\n",
       "    }\n",
       "</style>\n",
       "<table border=\"1\" class=\"dataframe\">\n",
       "  <thead>\n",
       "    <tr style=\"text-align: right;\">\n",
       "      <th></th>\n",
       "      <th>Age</th>\n",
       "      <th>Gender</th>\n",
       "      <th>Stream</th>\n",
       "      <th>Internships</th>\n",
       "      <th>CGPA</th>\n",
       "      <th>Hostel</th>\n",
       "      <th>HistoryOfBacklogs</th>\n",
       "      <th>PlacedOrNot</th>\n",
       "    </tr>\n",
       "  </thead>\n",
       "  <tbody>\n",
       "    <tr>\n",
       "      <th>0</th>\n",
       "      <td>22</td>\n",
       "      <td>1</td>\n",
       "      <td>Electronics And Communication</td>\n",
       "      <td>1</td>\n",
       "      <td>8</td>\n",
       "      <td>1</td>\n",
       "      <td>1</td>\n",
       "      <td>1</td>\n",
       "    </tr>\n",
       "    <tr>\n",
       "      <th>1</th>\n",
       "      <td>21</td>\n",
       "      <td>0</td>\n",
       "      <td>Computer Science</td>\n",
       "      <td>0</td>\n",
       "      <td>7</td>\n",
       "      <td>1</td>\n",
       "      <td>1</td>\n",
       "      <td>1</td>\n",
       "    </tr>\n",
       "    <tr>\n",
       "      <th>2</th>\n",
       "      <td>22</td>\n",
       "      <td>0</td>\n",
       "      <td>Information Technology</td>\n",
       "      <td>1</td>\n",
       "      <td>6</td>\n",
       "      <td>0</td>\n",
       "      <td>0</td>\n",
       "      <td>1</td>\n",
       "    </tr>\n",
       "    <tr>\n",
       "      <th>3</th>\n",
       "      <td>21</td>\n",
       "      <td>1</td>\n",
       "      <td>Information Technology</td>\n",
       "      <td>0</td>\n",
       "      <td>8</td>\n",
       "      <td>0</td>\n",
       "      <td>1</td>\n",
       "      <td>1</td>\n",
       "    </tr>\n",
       "    <tr>\n",
       "      <th>4</th>\n",
       "      <td>22</td>\n",
       "      <td>1</td>\n",
       "      <td>Mechanical</td>\n",
       "      <td>0</td>\n",
       "      <td>8</td>\n",
       "      <td>1</td>\n",
       "      <td>0</td>\n",
       "      <td>1</td>\n",
       "    </tr>\n",
       "    <tr>\n",
       "      <th>...</th>\n",
       "      <td>...</td>\n",
       "      <td>...</td>\n",
       "      <td>...</td>\n",
       "      <td>...</td>\n",
       "      <td>...</td>\n",
       "      <td>...</td>\n",
       "      <td>...</td>\n",
       "      <td>...</td>\n",
       "    </tr>\n",
       "    <tr>\n",
       "      <th>2961</th>\n",
       "      <td>23</td>\n",
       "      <td>1</td>\n",
       "      <td>Information Technology</td>\n",
       "      <td>0</td>\n",
       "      <td>7</td>\n",
       "      <td>0</td>\n",
       "      <td>0</td>\n",
       "      <td>0</td>\n",
       "    </tr>\n",
       "    <tr>\n",
       "      <th>2962</th>\n",
       "      <td>23</td>\n",
       "      <td>1</td>\n",
       "      <td>Mechanical</td>\n",
       "      <td>1</td>\n",
       "      <td>7</td>\n",
       "      <td>1</td>\n",
       "      <td>0</td>\n",
       "      <td>0</td>\n",
       "    </tr>\n",
       "    <tr>\n",
       "      <th>2963</th>\n",
       "      <td>22</td>\n",
       "      <td>1</td>\n",
       "      <td>Information Technology</td>\n",
       "      <td>1</td>\n",
       "      <td>7</td>\n",
       "      <td>0</td>\n",
       "      <td>0</td>\n",
       "      <td>0</td>\n",
       "    </tr>\n",
       "    <tr>\n",
       "      <th>2964</th>\n",
       "      <td>22</td>\n",
       "      <td>1</td>\n",
       "      <td>Computer Science</td>\n",
       "      <td>1</td>\n",
       "      <td>7</td>\n",
       "      <td>0</td>\n",
       "      <td>0</td>\n",
       "      <td>0</td>\n",
       "    </tr>\n",
       "    <tr>\n",
       "      <th>2965</th>\n",
       "      <td>23</td>\n",
       "      <td>1</td>\n",
       "      <td>Civil</td>\n",
       "      <td>0</td>\n",
       "      <td>8</td>\n",
       "      <td>0</td>\n",
       "      <td>0</td>\n",
       "      <td>1</td>\n",
       "    </tr>\n",
       "  </tbody>\n",
       "</table>\n",
       "<p>2966 rows × 8 columns</p>\n",
       "</div>"
      ],
      "text/plain": [
       "      Age  Gender                         Stream  Internships  CGPA  Hostel  \\\n",
       "0      22       1  Electronics And Communication            1     8       1   \n",
       "1      21       0               Computer Science            0     7       1   \n",
       "2      22       0         Information Technology            1     6       0   \n",
       "3      21       1         Information Technology            0     8       0   \n",
       "4      22       1                     Mechanical            0     8       1   \n",
       "...   ...     ...                            ...          ...   ...     ...   \n",
       "2961   23       1         Information Technology            0     7       0   \n",
       "2962   23       1                     Mechanical            1     7       1   \n",
       "2963   22       1         Information Technology            1     7       0   \n",
       "2964   22       1               Computer Science            1     7       0   \n",
       "2965   23       1                          Civil            0     8       0   \n",
       "\n",
       "      HistoryOfBacklogs  PlacedOrNot  \n",
       "0                     1            1  \n",
       "1                     1            1  \n",
       "2                     0            1  \n",
       "3                     1            1  \n",
       "4                     0            1  \n",
       "...                 ...          ...  \n",
       "2961                  0            0  \n",
       "2962                  0            0  \n",
       "2963                  0            0  \n",
       "2964                  0            0  \n",
       "2965                  0            1  \n",
       "\n",
       "[2966 rows x 8 columns]"
      ]
     },
     "execution_count": 116,
     "metadata": {},
     "output_type": "execute_result"
    }
   ],
   "source": [
    "df"
   ]
  },
  {
   "cell_type": "code",
   "execution_count": 117,
   "id": "c67664e5-22eb-49bd-9b1e-bf1e208d31e4",
   "metadata": {},
   "outputs": [
    {
     "data": {
      "text/plain": [
       "array(['Electronics And Communication', 'Computer Science',\n",
       "       'Information Technology', 'Mechanical', 'Electrical', 'Civil'],\n",
       "      dtype=object)"
      ]
     },
     "execution_count": 117,
     "metadata": {},
     "output_type": "execute_result"
    }
   ],
   "source": [
    "df['Stream'].unique()"
   ]
  },
  {
   "cell_type": "code",
   "execution_count": 118,
   "id": "34f747d8-9671-4375-908e-5da339ac0f63",
   "metadata": {},
   "outputs": [],
   "source": [
    "\n",
    "\n",
    "# convert Stream column to numeric\n",
    "df['Stream'] = df['Stream'].map({'Electronics And Communication': 1, \n",
    "                                 'Computer Science': 2,\n",
    "                                'Information Technology': 3,\n",
    "                                'Mechanical':4,\n",
    "                                'Electrical':5,\n",
    "                                'Civil':6})\n",
    "\n"
   ]
  },
  {
   "cell_type": "code",
   "execution_count": 119,
   "id": "0fed521b-d7f2-46c2-8a80-971dbbe268d3",
   "metadata": {},
   "outputs": [
    {
     "data": {
      "text/html": [
       "<div>\n",
       "<style scoped>\n",
       "    .dataframe tbody tr th:only-of-type {\n",
       "        vertical-align: middle;\n",
       "    }\n",
       "\n",
       "    .dataframe tbody tr th {\n",
       "        vertical-align: top;\n",
       "    }\n",
       "\n",
       "    .dataframe thead th {\n",
       "        text-align: right;\n",
       "    }\n",
       "</style>\n",
       "<table border=\"1\" class=\"dataframe\">\n",
       "  <thead>\n",
       "    <tr style=\"text-align: right;\">\n",
       "      <th></th>\n",
       "      <th>Age</th>\n",
       "      <th>Gender</th>\n",
       "      <th>Stream</th>\n",
       "      <th>Internships</th>\n",
       "      <th>CGPA</th>\n",
       "      <th>Hostel</th>\n",
       "      <th>HistoryOfBacklogs</th>\n",
       "      <th>PlacedOrNot</th>\n",
       "    </tr>\n",
       "  </thead>\n",
       "  <tbody>\n",
       "    <tr>\n",
       "      <th>2273</th>\n",
       "      <td>22</td>\n",
       "      <td>0</td>\n",
       "      <td>1</td>\n",
       "      <td>1</td>\n",
       "      <td>7</td>\n",
       "      <td>1</td>\n",
       "      <td>0</td>\n",
       "      <td>0</td>\n",
       "    </tr>\n",
       "    <tr>\n",
       "      <th>227</th>\n",
       "      <td>21</td>\n",
       "      <td>1</td>\n",
       "      <td>2</td>\n",
       "      <td>2</td>\n",
       "      <td>7</td>\n",
       "      <td>0</td>\n",
       "      <td>0</td>\n",
       "      <td>1</td>\n",
       "    </tr>\n",
       "    <tr>\n",
       "      <th>1917</th>\n",
       "      <td>22</td>\n",
       "      <td>1</td>\n",
       "      <td>1</td>\n",
       "      <td>1</td>\n",
       "      <td>7</td>\n",
       "      <td>0</td>\n",
       "      <td>0</td>\n",
       "      <td>0</td>\n",
       "    </tr>\n",
       "    <tr>\n",
       "      <th>2174</th>\n",
       "      <td>21</td>\n",
       "      <td>1</td>\n",
       "      <td>2</td>\n",
       "      <td>1</td>\n",
       "      <td>6</td>\n",
       "      <td>0</td>\n",
       "      <td>0</td>\n",
       "      <td>1</td>\n",
       "    </tr>\n",
       "    <tr>\n",
       "      <th>1687</th>\n",
       "      <td>22</td>\n",
       "      <td>1</td>\n",
       "      <td>3</td>\n",
       "      <td>0</td>\n",
       "      <td>6</td>\n",
       "      <td>0</td>\n",
       "      <td>0</td>\n",
       "      <td>0</td>\n",
       "    </tr>\n",
       "  </tbody>\n",
       "</table>\n",
       "</div>"
      ],
      "text/plain": [
       "      Age  Gender  Stream  Internships  CGPA  Hostel  HistoryOfBacklogs  \\\n",
       "2273   22       0       1            1     7       1                  0   \n",
       "227    21       1       2            2     7       0                  0   \n",
       "1917   22       1       1            1     7       0                  0   \n",
       "2174   21       1       2            1     6       0                  0   \n",
       "1687   22       1       3            0     6       0                  0   \n",
       "\n",
       "      PlacedOrNot  \n",
       "2273            0  \n",
       "227             1  \n",
       "1917            0  \n",
       "2174            1  \n",
       "1687            0  "
      ]
     },
     "execution_count": 119,
     "metadata": {},
     "output_type": "execute_result"
    }
   ],
   "source": [
    "df.sample(5)"
   ]
  },
  {
   "cell_type": "code",
   "execution_count": 121,
   "id": "2177d892-2a82-4aac-9381-823190d73a8c",
   "metadata": {},
   "outputs": [],
   "source": [
    "\n",
    "\n",
    "# # you can reduce the features using PCA\n",
    "# pca = PCA(n_components=2)\n",
    "# X_pca = pca.fit_transform(X)\n",
    "# X_pca_transform = pd.DataFrame(data=X_pca)\n",
    "# #Plot the graph \n",
    "# plt.scatter(X_pca_transform[0],X_pca_transform[1],c=y)\n",
    "\n"
   ]
  },
  {
   "cell_type": "code",
   "execution_count": 122,
   "id": "10dcc4e5-646a-4915-9083-bb283188d172",
   "metadata": {},
   "outputs": [
    {
     "data": {
      "text/html": [
       "<div>\n",
       "<style scoped>\n",
       "    .dataframe tbody tr th:only-of-type {\n",
       "        vertical-align: middle;\n",
       "    }\n",
       "\n",
       "    .dataframe tbody tr th {\n",
       "        vertical-align: top;\n",
       "    }\n",
       "\n",
       "    .dataframe thead th {\n",
       "        text-align: right;\n",
       "    }\n",
       "</style>\n",
       "<table border=\"1\" class=\"dataframe\">\n",
       "  <thead>\n",
       "    <tr style=\"text-align: right;\">\n",
       "      <th></th>\n",
       "      <th>Age</th>\n",
       "      <th>Gender</th>\n",
       "      <th>Stream</th>\n",
       "      <th>Internships</th>\n",
       "      <th>CGPA</th>\n",
       "      <th>Hostel</th>\n",
       "      <th>HistoryOfBacklogs</th>\n",
       "    </tr>\n",
       "  </thead>\n",
       "  <tbody>\n",
       "    <tr>\n",
       "      <th>0</th>\n",
       "      <td>22</td>\n",
       "      <td>1</td>\n",
       "      <td>1</td>\n",
       "      <td>1</td>\n",
       "      <td>8</td>\n",
       "      <td>1</td>\n",
       "      <td>1</td>\n",
       "    </tr>\n",
       "    <tr>\n",
       "      <th>1</th>\n",
       "      <td>21</td>\n",
       "      <td>0</td>\n",
       "      <td>2</td>\n",
       "      <td>0</td>\n",
       "      <td>7</td>\n",
       "      <td>1</td>\n",
       "      <td>1</td>\n",
       "    </tr>\n",
       "    <tr>\n",
       "      <th>2</th>\n",
       "      <td>22</td>\n",
       "      <td>0</td>\n",
       "      <td>3</td>\n",
       "      <td>1</td>\n",
       "      <td>6</td>\n",
       "      <td>0</td>\n",
       "      <td>0</td>\n",
       "    </tr>\n",
       "    <tr>\n",
       "      <th>3</th>\n",
       "      <td>21</td>\n",
       "      <td>1</td>\n",
       "      <td>3</td>\n",
       "      <td>0</td>\n",
       "      <td>8</td>\n",
       "      <td>0</td>\n",
       "      <td>1</td>\n",
       "    </tr>\n",
       "    <tr>\n",
       "      <th>4</th>\n",
       "      <td>22</td>\n",
       "      <td>1</td>\n",
       "      <td>4</td>\n",
       "      <td>0</td>\n",
       "      <td>8</td>\n",
       "      <td>1</td>\n",
       "      <td>0</td>\n",
       "    </tr>\n",
       "    <tr>\n",
       "      <th>...</th>\n",
       "      <td>...</td>\n",
       "      <td>...</td>\n",
       "      <td>...</td>\n",
       "      <td>...</td>\n",
       "      <td>...</td>\n",
       "      <td>...</td>\n",
       "      <td>...</td>\n",
       "    </tr>\n",
       "    <tr>\n",
       "      <th>2961</th>\n",
       "      <td>23</td>\n",
       "      <td>1</td>\n",
       "      <td>3</td>\n",
       "      <td>0</td>\n",
       "      <td>7</td>\n",
       "      <td>0</td>\n",
       "      <td>0</td>\n",
       "    </tr>\n",
       "    <tr>\n",
       "      <th>2962</th>\n",
       "      <td>23</td>\n",
       "      <td>1</td>\n",
       "      <td>4</td>\n",
       "      <td>1</td>\n",
       "      <td>7</td>\n",
       "      <td>1</td>\n",
       "      <td>0</td>\n",
       "    </tr>\n",
       "    <tr>\n",
       "      <th>2963</th>\n",
       "      <td>22</td>\n",
       "      <td>1</td>\n",
       "      <td>3</td>\n",
       "      <td>1</td>\n",
       "      <td>7</td>\n",
       "      <td>0</td>\n",
       "      <td>0</td>\n",
       "    </tr>\n",
       "    <tr>\n",
       "      <th>2964</th>\n",
       "      <td>22</td>\n",
       "      <td>1</td>\n",
       "      <td>2</td>\n",
       "      <td>1</td>\n",
       "      <td>7</td>\n",
       "      <td>0</td>\n",
       "      <td>0</td>\n",
       "    </tr>\n",
       "    <tr>\n",
       "      <th>2965</th>\n",
       "      <td>23</td>\n",
       "      <td>1</td>\n",
       "      <td>6</td>\n",
       "      <td>0</td>\n",
       "      <td>8</td>\n",
       "      <td>0</td>\n",
       "      <td>0</td>\n",
       "    </tr>\n",
       "  </tbody>\n",
       "</table>\n",
       "<p>2966 rows × 7 columns</p>\n",
       "</div>"
      ],
      "text/plain": [
       "      Age  Gender  Stream  Internships  CGPA  Hostel  HistoryOfBacklogs\n",
       "0      22       1       1            1     8       1                  1\n",
       "1      21       0       2            0     7       1                  1\n",
       "2      22       0       3            1     6       0                  0\n",
       "3      21       1       3            0     8       0                  1\n",
       "4      22       1       4            0     8       1                  0\n",
       "...   ...     ...     ...          ...   ...     ...                ...\n",
       "2961   23       1       3            0     7       0                  0\n",
       "2962   23       1       4            1     7       1                  0\n",
       "2963   22       1       3            1     7       0                  0\n",
       "2964   22       1       2            1     7       0                  0\n",
       "2965   23       1       6            0     8       0                  0\n",
       "\n",
       "[2966 rows x 7 columns]"
      ]
     },
     "execution_count": 122,
     "metadata": {},
     "output_type": "execute_result"
    }
   ],
   "source": [
    "\n",
    "\n",
    "X = df.iloc[:,0:7]\n",
    "y = df.iloc[:,-1]\n",
    "X\n",
    "\n"
   ]
  },
  {
   "cell_type": "code",
   "execution_count": 123,
   "id": "bf28f0e8-117c-4b14-8d93-3fc7d7dfcb37",
   "metadata": {},
   "outputs": [
    {
     "data": {
      "text/html": [
       "<div>\n",
       "<style scoped>\n",
       "    .dataframe tbody tr th:only-of-type {\n",
       "        vertical-align: middle;\n",
       "    }\n",
       "\n",
       "    .dataframe tbody tr th {\n",
       "        vertical-align: top;\n",
       "    }\n",
       "\n",
       "    .dataframe thead th {\n",
       "        text-align: right;\n",
       "    }\n",
       "</style>\n",
       "<table border=\"1\" class=\"dataframe\">\n",
       "  <thead>\n",
       "    <tr style=\"text-align: right;\">\n",
       "      <th></th>\n",
       "      <th>Age</th>\n",
       "      <th>Gender</th>\n",
       "      <th>Stream</th>\n",
       "      <th>Internships</th>\n",
       "      <th>CGPA</th>\n",
       "      <th>Hostel</th>\n",
       "      <th>HistoryOfBacklogs</th>\n",
       "    </tr>\n",
       "  </thead>\n",
       "  <tbody>\n",
       "    <tr>\n",
       "      <th>0</th>\n",
       "      <td>22</td>\n",
       "      <td>1</td>\n",
       "      <td>1</td>\n",
       "      <td>1</td>\n",
       "      <td>8</td>\n",
       "      <td>1</td>\n",
       "      <td>1</td>\n",
       "    </tr>\n",
       "    <tr>\n",
       "      <th>1</th>\n",
       "      <td>21</td>\n",
       "      <td>0</td>\n",
       "      <td>2</td>\n",
       "      <td>0</td>\n",
       "      <td>7</td>\n",
       "      <td>1</td>\n",
       "      <td>1</td>\n",
       "    </tr>\n",
       "    <tr>\n",
       "      <th>2</th>\n",
       "      <td>22</td>\n",
       "      <td>0</td>\n",
       "      <td>3</td>\n",
       "      <td>1</td>\n",
       "      <td>6</td>\n",
       "      <td>0</td>\n",
       "      <td>0</td>\n",
       "    </tr>\n",
       "    <tr>\n",
       "      <th>3</th>\n",
       "      <td>21</td>\n",
       "      <td>1</td>\n",
       "      <td>3</td>\n",
       "      <td>0</td>\n",
       "      <td>8</td>\n",
       "      <td>0</td>\n",
       "      <td>1</td>\n",
       "    </tr>\n",
       "    <tr>\n",
       "      <th>4</th>\n",
       "      <td>22</td>\n",
       "      <td>1</td>\n",
       "      <td>4</td>\n",
       "      <td>0</td>\n",
       "      <td>8</td>\n",
       "      <td>1</td>\n",
       "      <td>0</td>\n",
       "    </tr>\n",
       "    <tr>\n",
       "      <th>...</th>\n",
       "      <td>...</td>\n",
       "      <td>...</td>\n",
       "      <td>...</td>\n",
       "      <td>...</td>\n",
       "      <td>...</td>\n",
       "      <td>...</td>\n",
       "      <td>...</td>\n",
       "    </tr>\n",
       "    <tr>\n",
       "      <th>2961</th>\n",
       "      <td>23</td>\n",
       "      <td>1</td>\n",
       "      <td>3</td>\n",
       "      <td>0</td>\n",
       "      <td>7</td>\n",
       "      <td>0</td>\n",
       "      <td>0</td>\n",
       "    </tr>\n",
       "    <tr>\n",
       "      <th>2962</th>\n",
       "      <td>23</td>\n",
       "      <td>1</td>\n",
       "      <td>4</td>\n",
       "      <td>1</td>\n",
       "      <td>7</td>\n",
       "      <td>1</td>\n",
       "      <td>0</td>\n",
       "    </tr>\n",
       "    <tr>\n",
       "      <th>2963</th>\n",
       "      <td>22</td>\n",
       "      <td>1</td>\n",
       "      <td>3</td>\n",
       "      <td>1</td>\n",
       "      <td>7</td>\n",
       "      <td>0</td>\n",
       "      <td>0</td>\n",
       "    </tr>\n",
       "    <tr>\n",
       "      <th>2964</th>\n",
       "      <td>22</td>\n",
       "      <td>1</td>\n",
       "      <td>2</td>\n",
       "      <td>1</td>\n",
       "      <td>7</td>\n",
       "      <td>0</td>\n",
       "      <td>0</td>\n",
       "    </tr>\n",
       "    <tr>\n",
       "      <th>2965</th>\n",
       "      <td>23</td>\n",
       "      <td>1</td>\n",
       "      <td>6</td>\n",
       "      <td>0</td>\n",
       "      <td>8</td>\n",
       "      <td>0</td>\n",
       "      <td>0</td>\n",
       "    </tr>\n",
       "  </tbody>\n",
       "</table>\n",
       "<p>2966 rows × 7 columns</p>\n",
       "</div>"
      ],
      "text/plain": [
       "      Age  Gender  Stream  Internships  CGPA  Hostel  HistoryOfBacklogs\n",
       "0      22       1       1            1     8       1                  1\n",
       "1      21       0       2            0     7       1                  1\n",
       "2      22       0       3            1     6       0                  0\n",
       "3      21       1       3            0     8       0                  1\n",
       "4      22       1       4            0     8       1                  0\n",
       "...   ...     ...     ...          ...   ...     ...                ...\n",
       "2961   23       1       3            0     7       0                  0\n",
       "2962   23       1       4            1     7       1                  0\n",
       "2963   22       1       3            1     7       0                  0\n",
       "2964   22       1       2            1     7       0                  0\n",
       "2965   23       1       6            0     8       0                  0\n",
       "\n",
       "[2966 rows x 7 columns]"
      ]
     },
     "execution_count": 123,
     "metadata": {},
     "output_type": "execute_result"
    }
   ],
   "source": [
    "X = df.iloc[:,0:7]\n",
    "y = df.iloc[:,-1]\n",
    "X\n"
   ]
  },
  {
   "cell_type": "code",
   "execution_count": 124,
   "id": "a6bed2a1-17e4-4d45-8aa8-0a4965a42920",
   "metadata": {},
   "outputs": [
    {
     "name": "stdout",
     "output_type": "stream",
     "text": [
      "(2966, 7)\n",
      "(2966,)\n"
     ]
    }
   ],
   "source": [
    "print(X.shape)\n",
    "print(y.shape)"
   ]
  },
  {
   "cell_type": "code",
   "execution_count": 125,
   "id": "7cf8e18b-43f0-4b4f-a382-faffd0e172f1",
   "metadata": {},
   "outputs": [],
   "source": [
    "X_train,X_test,y_train,y_test = train_test_split(X,y,test_size=0.33)"
   ]
  },
  {
   "cell_type": "code",
   "execution_count": 126,
   "id": "378df3bd-2399-4d76-bdc5-c1238cd1e7dd",
   "metadata": {},
   "outputs": [
    {
     "name": "stdout",
     "output_type": "stream",
     "text": [
      "(1987, 7)\n",
      "(979, 7)\n",
      "(1987,)\n",
      "(979,)\n"
     ]
    }
   ],
   "source": [
    "print(X_train.shape)\n",
    "print(X_test.shape)\n",
    "print(y_train.shape)\n",
    "print(y_test.shape)"
   ]
  },
  {
   "cell_type": "code",
   "execution_count": 127,
   "id": "46e1d835-a46f-4a1c-bebe-585a518fc67c",
   "metadata": {},
   "outputs": [],
   "source": [
    "scaler = StandardScaler()\n",
    "X_train_scale = scaler.fit_transform(X_train)\n",
    "X_test_scale = scaler.transform(X_test)\n"
   ]
  },
  {
   "cell_type": "code",
   "execution_count": 128,
   "id": "5d884470-5bf5-4cb5-8a80-5412411d74ff",
   "metadata": {},
   "outputs": [
    {
     "name": "stdout",
     "output_type": "stream",
     "text": [
      "Without Scaling and CV:  0.7548518896833504\n",
      "Without Scaling and With CV:  0.7720090350743618\n",
      "With Scaling and Without CV:  0.7548518896833504\n",
      "With Scaling and With CV:  0.7725140855794123\n"
     ]
    }
   ],
   "source": [
    "#https://scikit-learn.org/stable/modules/generated/sklearn.linear_model.LogisticRegression.html\n",
    "#using Logistic Regression\n",
    "from sklearn.linear_model import LogisticRegression\n",
    "clf = LogisticRegression()\n",
    "\n",
    "# Without Scaling \n",
    "clf.fit(X_train,y_train) \n",
    "y_pred = clf.predict(X_test)\n",
    "print(\"Without Scaling and CV: \",accuracy_score(y_test,y_pred))\n",
    "scores = cross_val_score(clf, X_train, y_train, cv=10)\n",
    "print(\"Without Scaling and With CV: \",scores.mean())\n",
    "\n",
    "# With Scaling \n",
    "clf.fit(X_train_scale,y_train) \n",
    "y_pred = clf.predict(X_test_scale)\n",
    "print(\"With Scaling and Without CV: \",accuracy_score(y_test,y_pred))\n",
    "scores = cross_val_score(clf, X_train_scale, y_train, cv=10)\n",
    "print(\"With Scaling and With CV: \",scores.mean())\n",
    "\n",
    "#scaling has not much effect"
   ]
  },
  {
   "cell_type": "code",
   "execution_count": 129,
   "id": "7fb0b6cf-baef-40a6-9685-02485e11fc18",
   "metadata": {},
   "outputs": [
    {
     "name": "stdout",
     "output_type": "stream",
     "text": [
      "Without Scaling and CV:  0.7262512768130746\n",
      "Without Scaling and With CV:  0.7076265164204862\n",
      "With Scaling and Without CV:  0.7711950970377937\n",
      "With Scaling and With CV:  0.7720242627277804\n"
     ]
    }
   ],
   "source": [
    "# https://scikit-learn.org/stable/modules/generated/sklearn.linear_model.SGDClassifier.html#sklearn.linear_model.SGDClassifier\n",
    "#Using SGD Classifier\n",
    "from sklearn.linear_model import SGDClassifier\n",
    "clf = SGDClassifier(max_iter=1000, tol=1e-3)\n",
    "\n",
    "# Without Scaling\n",
    "clf.fit(X_train,y_train)\n",
    "y_pred = clf.predict(X_test)\n",
    "print(\"Without Scaling and CV: \",accuracy_score(y_test,y_pred))\n",
    "scores = cross_val_score(clf, X_train, y_train, cv=10)\n",
    "print(\"Without Scaling and With CV: \",scores.mean())\n",
    "\n",
    "# With Scaling \n",
    "clf.fit(X_train_scale,y_train) \n",
    "y_pred = clf.predict(X_test_scale)\n",
    "print(\"With Scaling and Without CV: \",accuracy_score(y_test,y_pred))\n",
    "scores = cross_val_score(clf, X_train_scale, y_train, cv=10)\n",
    "print(\"With Scaling and With CV: \",scores.mean())"
   ]
  },
  {
   "cell_type": "code",
   "execution_count": 130,
   "id": "1dfcd8b8-a77d-46af-b56b-e8908a096f5a",
   "metadata": {},
   "outputs": [
    {
     "name": "stdout",
     "output_type": "stream",
     "text": [
      "Without Scaling and CV:  0.7854954034729316\n",
      "Without Scaling and With CV:  0.6416476320998934\n",
      "With Scaling and Without CV:  0.6966292134831461\n",
      "With Scaling and With CV:  0.6839703568346784\n"
     ]
    }
   ],
   "source": [
    "from sklearn.linear_model import Perceptron\n",
    "# this is same as SGDClassifier(loss=\"perceptron\", eta0=1, learning_rate=\"constant\", penalty=None)\n",
    "\n",
    "clf = Perceptron(tol=1e-3, random_state=0)\n",
    "# Without Scaling\n",
    "clf.fit(X_train,y_train)\n",
    "y_pred = clf.predict(X_test)\n",
    "print(\"Without Scaling and CV: \",accuracy_score(y_test,y_pred))\n",
    "scores = cross_val_score(clf, X_train, y_train, cv=10)\n",
    "print(\"Without Scaling and With CV: \",scores.mean())\n",
    "\n",
    "# With Scaling \n",
    "clf.fit(X_train_scale,y_train) \n",
    "y_pred = clf.predict(X_test_scale)\n",
    "print(\"With Scaling and Without CV: \",accuracy_score(y_test,y_pred))\n",
    "scores = cross_val_score(clf, X_train_scale, y_train, cv=10)\n",
    "print(\"With Scaling and With CV: \",scores.mean())\n"
   ]
  },
  {
   "cell_type": "code",
   "execution_count": 131,
   "id": "b3817a61-97b7-4010-8aff-b19d66825e77",
   "metadata": {},
   "outputs": [
    {
     "name": "stdout",
     "output_type": "stream",
     "text": [
      "Without Scaling and CV:  0.7548518896833504\n"
     ]
    },
    {
     "name": "stderr",
     "output_type": "stream",
     "text": [
      "/home/psytama/mca/labs/ML/part2/lab2/venv/lib/python3.13/site-packages/sklearn/linear_model/_logistic.py:465: ConvergenceWarning:\n",
      "\n",
      "lbfgs failed to converge (status=1):\n",
      "STOP: TOTAL NO. OF ITERATIONS REACHED LIMIT.\n",
      "\n",
      "Increase the number of iterations (max_iter) or scale the data as shown in:\n",
      "    https://scikit-learn.org/stable/modules/preprocessing.html\n",
      "Please also refer to the documentation for alternative solver options:\n",
      "    https://scikit-learn.org/stable/modules/linear_model.html#logistic-regression\n",
      "\n"
     ]
    },
    {
     "name": "stdout",
     "output_type": "stream",
     "text": [
      "Without Scaling and With CV:  0.7725140855794123\n",
      "With Scaling and Without CV:  0.7548518896833504\n",
      "With Scaling and With CV:  0.7720090350743618\n"
     ]
    }
   ],
   "source": [
    "\n",
    "\n",
    "# https://scikit-learn.org/stable/modules/generated/sklearn.linear_model.LogisticRegressionCV.html#sklearn.linear_model.LogisticRegressionCV\n",
    "# Using LogisticRegressionCV\n",
    "from sklearn.linear_model import LogisticRegressionCV\n",
    "clf = LogisticRegressionCV(cv=5, random_state=0)\n",
    "\n",
    "# Without Scaling\n",
    "clf.fit(X_train,y_train)\n",
    "y_pred = clf.predict(X_test)\n",
    "print(\"Without Scaling and CV: \",accuracy_score(y_test,y_pred))\n",
    "scores = cross_val_score(clf, X_train, y_train, cv=10)\n",
    "print(\"Without Scaling and With CV: \",scores.mean())\n",
    "\n",
    "# With Scaling \n",
    "clf.fit(X_train_scale,y_train) \n",
    "y_pred = clf.predict(X_test_scale)\n",
    "print(\"With Scaling and Without CV: \",accuracy_score(y_test,y_pred))\n",
    "scores = cross_val_score(clf, X_train_scale, y_train, cv=10)\n",
    "print(\"With Scaling and With CV: \",scores.mean())\n",
    "\n"
   ]
  },
  {
   "cell_type": "code",
   "execution_count": 132,
   "id": "a546dd6c-4cc8-4700-9e31-388997e7aa44",
   "metadata": {},
   "outputs": [
    {
     "name": "stdout",
     "output_type": "stream",
     "text": [
      "Without Scaling and CV:  0.8764044943820225\n",
      "Without Scaling and With CV:  0.8746865641338003\n",
      "With Scaling and Without CV:  0.8774259448416751\n",
      "With Scaling and With CV:  0.873681539008172\n"
     ]
    }
   ],
   "source": [
    "# https://scikit-learn.org/stable/modules/generated/sklearn.ensemble.RandomForestClassifier.html\n",
    "from sklearn.ensemble import RandomForestClassifier\n",
    "\n",
    "clf = RandomForestClassifier(max_depth=10, random_state=0)\n",
    "\n",
    "clf.fit(X_train,y_train)\n",
    "y_pred = clf.predict(X_test)\n",
    "print(\"Without Scaling and CV: \",accuracy_score(y_test,y_pred))\n",
    "scores = cross_val_score(clf, X_train, y_train, cv=10)\n",
    "print(\"Without Scaling and With CV: \",scores.mean())\n",
    "\n",
    "# With Scaling \n",
    "clf.fit(X_train_scale,y_train) \n",
    "y_pred = clf.predict(X_test_scale)\n",
    "print(\"With Scaling and Without CV: \",accuracy_score(y_test,y_pred))\n",
    "scores = cross_val_score(clf, X_train_scale, y_train, cv=10)\n",
    "print(\"With Scaling and With CV: \",scores.mean())"
   ]
  },
  {
   "cell_type": "code",
   "execution_count": 133,
   "id": "11335cfe-3a04-44a5-af60-215eb9a34e74",
   "metadata": {},
   "outputs": [
    {
     "name": "stdout",
     "output_type": "stream",
     "text": [
      "Best Parameters: {'C': 10, 'kernel': 'rbf'}\n",
      "Best Score: 0.8001873346581775\n",
      "Without Scaling and CV:  0.780388151174668\n",
      "Without Scaling and With CV:  0.7996726054515\n",
      "Best Parameters: {'C': 10, 'kernel': 'rbf'}\n",
      "Best Score: 0.8646089389010545\n",
      "With Scaling and Without CV:  0.8508682328907048\n",
      "With Scaling and With CV:  0.8626084970306076\n"
     ]
    }
   ],
   "source": [
    "# https://scikit-learn.org/stable/modules/generated/sklearn.svm.SVC.html#sklearn.svm.SVC\n",
    "from sklearn.svm import SVC\n",
    "#clf = SVC(gamma='auto')\n",
    "\n",
    "svc = SVC()\n",
    "parameters = {'kernel':('linear', 'rbf'), 'C':[1, 10]}\n",
    "clf = GridSearchCV(svc, parameters)\n",
    "\n",
    "clf.fit(X_train,y_train)\n",
    "y_pred = clf.predict(X_test)\n",
    "print(\"Best Parameters:\", clf.best_params_)\n",
    "print(\"Best Score:\", clf.best_score_)\n",
    "print(\"Without Scaling and CV: \",accuracy_score(y_test,y_pred))\n",
    "scores = cross_val_score(clf, X_train, y_train, cv=10)\n",
    "print(\"Without Scaling and With CV: \",scores.mean())\n",
    "\n",
    "# With Scaling \n",
    "clf.fit(X_train_scale,y_train) \n",
    "y_pred = clf.predict(X_test_scale)\n",
    "print(\"Best Parameters:\", clf.best_params_)\n",
    "print(\"Best Score:\", clf.best_score_)\n",
    "print(\"With Scaling and Without CV: \",accuracy_score(y_test,y_pred))\n",
    "scores = cross_val_score(clf, X_train_scale, y_train, cv=10)\n",
    "print(\"With Scaling and With CV: \",scores.mean())\n"
   ]
  },
  {
   "cell_type": "code",
   "execution_count": 134,
   "id": "9f7849ad-6bc1-422a-8eb7-4979fefe7bb9",
   "metadata": {},
   "outputs": [
    {
     "name": "stdout",
     "output_type": "stream",
     "text": [
      "Without Scaling and CV:  0.7834525025536262\n",
      "Without Scaling and With CV:  0.8006750926348916\n",
      "With Scaling and Without CV:  0.8426966292134831\n",
      "With Scaling and With CV:  0.8590782193797271\n"
     ]
    }
   ],
   "source": [
    "# https://scikit-learn.org/stable/modules/generated/sklearn.svm.NuSVC.html#sklearn.svm.NuSVC\n",
    "from sklearn.svm import NuSVC\n",
    "clf = NuSVC()\n",
    "\n",
    "clf.fit(X_train,y_train)\n",
    "y_pred = clf.predict(X_test)\n",
    "print(\"Without Scaling and CV: \",accuracy_score(y_test,y_pred))\n",
    "scores = cross_val_score(clf, X_train, y_train, cv=10)\n",
    "print(\"Without Scaling and With CV: \",scores.mean())\n",
    "\n",
    "# With Scaling \n",
    "clf.fit(X_train_scale,y_train) \n",
    "y_pred = clf.predict(X_test_scale)\n",
    "print(\"With Scaling and Without CV: \",accuracy_score(y_test,y_pred))\n",
    "scores = cross_val_score(clf, X_train_scale, y_train, cv=10)\n",
    "print(\"With Scaling and With CV: \",scores.mean())"
   ]
  },
  {
   "cell_type": "code",
   "execution_count": 135,
   "id": "b2a2f24f-2a7d-4de8-80ab-35b1bd3c9927",
   "metadata": {},
   "outputs": [
    {
     "name": "stdout",
     "output_type": "stream",
     "text": [
      "Without Scaling and CV:  0.7528089887640449\n",
      "Without Scaling and With CV:  0.7679889345718492\n",
      "With Scaling and Without CV:  0.7548518896833504\n",
      "With Scaling and With CV:  0.7699964468808691\n"
     ]
    }
   ],
   "source": [
    "# https://scikit-learn.org/stable/modules/generated/sklearn.svm.LinearSVC.html#sklearn.svm.LinearSVC\n",
    "from sklearn.svm import LinearSVC\n",
    "clf = LinearSVC(random_state=0, tol=1e-5)\n",
    "\n",
    "clf.fit(X_train,y_train)\n",
    "y_pred = clf.predict(X_test)\n",
    "print(\"Without Scaling and CV: \",accuracy_score(y_test,y_pred))\n",
    "scores = cross_val_score(clf, X_train, y_train, cv=10)\n",
    "print(\"Without Scaling and With CV: \",scores.mean())\n",
    "\n",
    "# With Scaling \n",
    "clf.fit(X_train_scale,y_train) \n",
    "y_pred = clf.predict(X_test_scale)\n",
    "print(\"With Scaling and Without CV: \",accuracy_score(y_test,y_pred))\n",
    "scores = cross_val_score(clf, X_train_scale, y_train, cv=10)\n",
    "print(\"With Scaling and With CV: \",scores.mean())"
   ]
  },
  {
   "cell_type": "code",
   "execution_count": 136,
   "id": "0055b1fe-b341-4100-a25a-8b399b0fcdf8",
   "metadata": {},
   "outputs": [
    {
     "name": "stdout",
     "output_type": "stream",
     "text": [
      "Without Scaling and CV:  0.8008171603677222\n",
      "Without Scaling and With CV:  0.808740673062281\n",
      "With Scaling and Without CV:  0.8008171603677222\n",
      "With Scaling and With CV:  0.808740673062281\n"
     ]
    }
   ],
   "source": [
    "from sklearn.naive_bayes import GaussianNB\n",
    "clf = GaussianNB()\n",
    "\n",
    "#y_pred = gnb.fit(X_train, y_train).predict(X_test)\n",
    "#print(\"Number of mislabeled points out of a total %d points : %d\" % (X_test.shape[0], (y_test != y_pred).sum()))\n",
    "\n",
    "clf.fit(X_train,y_train)\n",
    "y_pred = clf.predict(X_test)\n",
    "print(\"Without Scaling and CV: \",accuracy_score(y_test,y_pred))\n",
    "scores = cross_val_score(clf, X_train, y_train, cv=10)\n",
    "print(\"Without Scaling and With CV: \",scores.mean())\n",
    "\n",
    "# With Scaling \n",
    "clf.fit(X_train_scale,y_train) \n",
    "y_pred = clf.predict(X_test_scale)\n",
    "print(\"With Scaling and Without CV: \",accuracy_score(y_test,y_pred))\n",
    "scores = cross_val_score(clf, X_train_scale, y_train, cv=10)\n",
    "print(\"With Scaling and With CV: \",scores.mean())"
   ]
  },
  {
   "cell_type": "code",
   "execution_count": 137,
   "id": "327da2e7-ddaf-4e46-b5a7-10daac4a5015",
   "metadata": {},
   "outputs": [
    {
     "name": "stdout",
     "output_type": "stream",
     "text": [
      "Without Scaling and CV:  0.6424923391215526\n",
      "Without Scaling and With CV:  0.6310923303385615\n"
     ]
    }
   ],
   "source": [
    "from sklearn.naive_bayes import MultinomialNB\n",
    "clf = MultinomialNB()\n",
    "\n",
    "clf.fit(X_train,y_train)\n",
    "y_pred = clf.predict(X_test)\n",
    "print(\"Without Scaling and CV: \",accuracy_score(y_test,y_pred))\n",
    "scores = cross_val_score(clf, X_train, y_train, cv=10)\n",
    "print(\"Without Scaling and With CV: \",scores.mean())"
   ]
  },
  {
   "cell_type": "code",
   "execution_count": 138,
   "id": "e238a417-ce2f-49f0-9548-68baca709240",
   "metadata": {},
   "outputs": [
    {
     "name": "stdout",
     "output_type": "stream",
     "text": [
      "Without Scaling and CV:  0.5587334014300307\n",
      "Without Scaling and With CV:  0.5576265164204862\n",
      "With Scaling and Without CV:  0.8130745658835546\n",
      "With Scaling and With CV:  0.8107405715445916\n"
     ]
    }
   ],
   "source": [
    "\n",
    "\n",
    "from sklearn.naive_bayes import BernoulliNB\n",
    "clf = BernoulliNB()\n",
    "\n",
    "clf.fit(X_train,y_train)\n",
    "y_pred = clf.predict(X_test)\n",
    "print(\"Without Scaling and CV: \",accuracy_score(y_test,y_pred))\n",
    "scores = cross_val_score(clf, X_train, y_train, cv=10)\n",
    "print(\"Without Scaling and With CV: \",scores.mean())\n",
    "\n",
    "# With Scaling \n",
    "clf.fit(X_train_scale,y_train) \n",
    "y_pred = clf.predict(X_test_scale)\n",
    "print(\"With Scaling and Without CV: \",accuracy_score(y_test,y_pred))\n",
    "scores = cross_val_score(clf, X_train_scale, y_train, cv=10)\n",
    "print(\"With Scaling and With CV: \",scores.mean())\n",
    "\n"
   ]
  },
  {
   "cell_type": "code",
   "execution_count": 140,
   "id": "1eefb1c0-55e7-4da2-b4c8-1cdae5991139",
   "metadata": {},
   "outputs": [
    {
     "ename": "IndexError",
     "evalue": "index 30 is out of bounds for axis 1 with size 30",
     "output_type": "error",
     "traceback": [
      "\u001b[31m---------------------------------------------------------------------------\u001b[39m",
      "\u001b[31mIndexError\u001b[39m                                Traceback (most recent call last)",
      "\u001b[36mCell\u001b[39m\u001b[36m \u001b[39m\u001b[32mIn[140]\u001b[39m\u001b[32m, line 5\u001b[39m\n\u001b[32m      2\u001b[39m clf = CategoricalNB()\n\u001b[32m      4\u001b[39m clf.fit(X_train,y_train)\n\u001b[32m----> \u001b[39m\u001b[32m5\u001b[39m y_pred = \u001b[43mclf\u001b[49m\u001b[43m.\u001b[49m\u001b[43mpredict\u001b[49m\u001b[43m(\u001b[49m\u001b[43mX_test\u001b[49m\u001b[43m)\u001b[49m\n\u001b[32m      6\u001b[39m \u001b[38;5;28mprint\u001b[39m(\u001b[33m\"\u001b[39m\u001b[33mWithout Scaling and CV: \u001b[39m\u001b[33m\"\u001b[39m,accuracy_score(y_test,y_pred))\n\u001b[32m      7\u001b[39m \u001b[38;5;66;03m#scores = cross_val_score(clf, X_train, y_train, cv=5)\u001b[39;00m\n\u001b[32m      8\u001b[39m \u001b[38;5;66;03m#print(\"Without Scaling and With CV: \",scores.mean())\u001b[39;00m\n",
      "\u001b[36mFile \u001b[39m\u001b[32m~/mca/labs/ML/part2/lab2/venv/lib/python3.13/site-packages/sklearn/naive_bayes.py:106\u001b[39m, in \u001b[36m_BaseNB.predict\u001b[39m\u001b[34m(self, X)\u001b[39m\n\u001b[32m    104\u001b[39m check_is_fitted(\u001b[38;5;28mself\u001b[39m)\n\u001b[32m    105\u001b[39m X = \u001b[38;5;28mself\u001b[39m._check_X(X)\n\u001b[32m--> \u001b[39m\u001b[32m106\u001b[39m jll = \u001b[38;5;28;43mself\u001b[39;49m\u001b[43m.\u001b[49m\u001b[43m_joint_log_likelihood\u001b[49m\u001b[43m(\u001b[49m\u001b[43mX\u001b[49m\u001b[43m)\u001b[49m\n\u001b[32m    107\u001b[39m \u001b[38;5;28;01mreturn\u001b[39;00m \u001b[38;5;28mself\u001b[39m.classes_[np.argmax(jll, axis=\u001b[32m1\u001b[39m)]\n",
      "\u001b[36mFile \u001b[39m\u001b[32m~/mca/labs/ML/part2/lab2/venv/lib/python3.13/site-packages/sklearn/naive_bayes.py:1537\u001b[39m, in \u001b[36mCategoricalNB._joint_log_likelihood\u001b[39m\u001b[34m(self, X)\u001b[39m\n\u001b[32m   1535\u001b[39m \u001b[38;5;28;01mfor\u001b[39;00m i \u001b[38;5;129;01min\u001b[39;00m \u001b[38;5;28mrange\u001b[39m(\u001b[38;5;28mself\u001b[39m.n_features_in_):\n\u001b[32m   1536\u001b[39m     indices = X[:, i]\n\u001b[32m-> \u001b[39m\u001b[32m1537\u001b[39m     jll += \u001b[38;5;28;43mself\u001b[39;49m\u001b[43m.\u001b[49m\u001b[43mfeature_log_prob_\u001b[49m\u001b[43m[\u001b[49m\u001b[43mi\u001b[49m\u001b[43m]\u001b[49m\u001b[43m[\u001b[49m\u001b[43m:\u001b[49m\u001b[43m,\u001b[49m\u001b[43m \u001b[49m\u001b[43mindices\u001b[49m\u001b[43m]\u001b[49m.T\n\u001b[32m   1538\u001b[39m total_ll = jll + \u001b[38;5;28mself\u001b[39m.class_log_prior_\n\u001b[32m   1539\u001b[39m \u001b[38;5;28;01mreturn\u001b[39;00m total_ll\n",
      "\u001b[31mIndexError\u001b[39m: index 30 is out of bounds for axis 1 with size 30"
     ]
    }
   ],
   "source": [
    "from sklearn.naive_bayes import CategoricalNB\n",
    "clf = CategoricalNB()\n",
    "\n",
    "clf.fit(X_train,y_train)\n",
    "y_pred = clf.predict(X_test)\n",
    "print(\"Without Scaling and CV: \",accuracy_score(y_test,y_pred))\n",
    "#scores = cross_val_score(clf, X_train, y_train, cv=5)\n",
    "#print(\"Without Scaling and With CV: \",scores.mean())"
   ]
  },
  {
   "cell_type": "code",
   "execution_count": 141,
   "id": "4d55e0a7-264f-4d97-adcd-852af801bf50",
   "metadata": {},
   "outputs": [
    {
     "name": "stdout",
     "output_type": "stream",
     "text": [
      "Without Scaling and CV:  0.8559754851889684\n",
      "Without Scaling and With CV:  0.8636135221562358\n",
      "With Scaling and Without CV:  0.8416751787538305\n",
      "With Scaling and With CV:  0.8540429419826404\n"
     ]
    }
   ],
   "source": [
    "from sklearn.neighbors import KNeighborsClassifier\n",
    "clf = KNeighborsClassifier(n_neighbors=3)\n",
    "\n",
    "clf.fit(X_train,y_train)\n",
    "y_pred = clf.predict(X_test)\n",
    "print(\"Without Scaling and CV: \",accuracy_score(y_test,y_pred))\n",
    "scores = cross_val_score(clf, X_train, y_train, cv=10)\n",
    "print(\"Without Scaling and With CV: \",scores.mean())\n",
    "\n",
    "\n",
    "# With Scaling \n",
    "clf.fit(X_train_scale,y_train) \n",
    "y_pred = clf.predict(X_test_scale)\n",
    "print(\"With Scaling and Without CV: \",accuracy_score(y_test,y_pred))\n",
    "scores = cross_val_score(clf, X_train_scale, y_train, cv=10)\n",
    "print(\"With Scaling and With CV: \",scores.mean())"
   ]
  },
  {
   "cell_type": "code",
   "execution_count": 142,
   "id": "82d84e72-cac6-4653-b61a-3d921d1e6056",
   "metadata": {},
   "outputs": [
    {
     "name": "stdout",
     "output_type": "stream",
     "text": [
      "Without CV:  0.8764044943820225\n",
      "With CV:  0.8746865641338003\n",
      "Precision Score:  0.9401197604790419\n",
      "Recall Score:  0.8380782918149466\n",
      "F1 Score:  0.8861712135465664\n"
     ]
    }
   ],
   "source": [
    "clf = RandomForestClassifier(max_depth=10, random_state=0)\n",
    "clf.fit(X_train,y_train)\n",
    "y_pred = clf.predict(X_test)\n",
    "print(\"Without CV: \",accuracy_score(y_test,y_pred))\n",
    "scores = cross_val_score(clf, X_train, y_train, cv=10)\n",
    "print(\"With CV: \",scores.mean())\n",
    "print(\"Precision Score: \", precision_score(y_test, y_pred))\n",
    "print(\"Recall Score: \", recall_score(y_test, y_pred))\n",
    "print(\"F1 Score: \", f1_score(y_test, y_pred))\n"
   ]
  },
  {
   "cell_type": "code",
   "execution_count": 143,
   "id": "eca972de-25fe-42f2-bbe3-56f52044fab0",
   "metadata": {},
   "outputs": [
    {
     "name": "stdout",
     "output_type": "stream",
     "text": [
      "Best Parameters: {'C': 10, 'kernel': 'rbf'}\n",
      "Best Score: 0.8001873346581775\n",
      "Without Scaling and CV:  0.780388151174668\n",
      "Without Scaling and With CV:  0.7996726054515\n",
      "Best Parameters: {'C': 10, 'kernel': 'rbf'}\n",
      "Best Score: 0.8646089389010545\n",
      "With Scaling and Without CV:  0.8508682328907048\n",
      "With Scaling and With CV:  0.8626084970306076\n"
     ]
    }
   ],
   "source": [
    "\n",
    "\n",
    "# https://scikit-learn.org/stable/modules/generated/sklearn.svm.SVC.html#sklearn.svm.SVC\n",
    "from sklearn.svm import SVC\n",
    "#clf = SVC(gamma='auto')\n",
    "\n",
    "svc = SVC()\n",
    "parameters = {'kernel':('linear', 'rbf'), 'C':[1, 10]}\n",
    "clf = GridSearchCV(svc, parameters)\n",
    "\n",
    "clf.fit(X_train,y_train)\n",
    "y_pred = clf.predict(X_test)\n",
    "print(\"Best Parameters:\", clf.best_params_)\n",
    "print(\"Best Score:\", clf.best_score_)\n",
    "print(\"Without Scaling and CV: \",accuracy_score(y_test,y_pred))\n",
    "scores = cross_val_score(clf, X_train, y_train, cv=10)\n",
    "print(\"Without Scaling and With CV: \",scores.mean())\n",
    "\n",
    "# With Scaling \n",
    "clf.fit(X_train_scale,y_train) \n",
    "y_pred = clf.predict(X_test_scale)\n",
    "print(\"Best Parameters:\", clf.best_params_)\n",
    "print(\"Best Score:\", clf.best_score_)\n",
    "print(\"With Scaling and Without CV: \",accuracy_score(y_test,y_pred))\n",
    "scores = cross_val_score(clf, X_train_scale, y_train, cv=10)\n",
    "print(\"With Scaling and With CV: \",scores.mean())\n",
    "\n"
   ]
  },
  {
   "cell_type": "code",
   "execution_count": 144,
   "id": "fc14c1ed-a4cf-4bc2-9175-c6509e998bae",
   "metadata": {},
   "outputs": [
    {
     "name": "stdout",
     "output_type": "stream",
     "text": [
      "Without Scaling and CV:  0.7834525025536262\n",
      "Without Scaling and With CV:  0.8006750926348916\n",
      "With Scaling and Without CV:  0.8426966292134831\n",
      "With Scaling and With CV:  0.8590782193797271\n"
     ]
    }
   ],
   "source": [
    "# https://scikit-learn.org/stable/modules/generated/sklearn.svm.NuSVC.html#sklearn.svm.NuSVC\n",
    "from sklearn.svm import NuSVC\n",
    "clf = NuSVC()\n",
    "\n",
    "clf.fit(X_train,y_train)\n",
    "y_pred = clf.predict(X_test)\n",
    "print(\"Without Scaling and CV: \",accuracy_score(y_test,y_pred))\n",
    "scores = cross_val_score(clf, X_train, y_train, cv=10)\n",
    "print(\"Without Scaling and With CV: \",scores.mean())\n",
    "\n",
    "# With Scaling \n",
    "clf.fit(X_train_scale,y_train) \n",
    "y_pred = clf.predict(X_test_scale)\n",
    "print(\"With Scaling and Without CV: \",accuracy_score(y_test,y_pred))\n",
    "scores = cross_val_score(clf, X_train_scale, y_train, cv=10)\n",
    "print(\"With Scaling and With CV: \",scores.mean())\n"
   ]
  },
  {
   "cell_type": "code",
   "execution_count": 145,
   "id": "50d4fbda-6a93-4475-88db-483eb64b7ff4",
   "metadata": {},
   "outputs": [
    {
     "name": "stdout",
     "output_type": "stream",
     "text": [
      "Without Scaling and CV:  0.7528089887640449\n",
      "Without Scaling and With CV:  0.7679889345718492\n",
      "With Scaling and Without CV:  0.7548518896833504\n",
      "With Scaling and With CV:  0.7699964468808691\n"
     ]
    }
   ],
   "source": [
    "# https://scikit-learn.org/stable/modules/generated/sklearn.svm.LinearSVC.html#sklearn.svm.LinearSVC\n",
    "from sklearn.svm import LinearSVC\n",
    "clf = LinearSVC(random_state=0, tol=1e-5)\n",
    "\n",
    "clf.fit(X_train,y_train)\n",
    "y_pred = clf.predict(X_test)\n",
    "print(\"Without Scaling and CV: \",accuracy_score(y_test,y_pred))\n",
    "scores = cross_val_score(clf, X_train, y_train, cv=10)\n",
    "print(\"Without Scaling and With CV: \",scores.mean())\n",
    "\n",
    "# With Scaling \n",
    "clf.fit(X_train_scale,y_train) \n",
    "y_pred = clf.predict(X_test_scale)\n",
    "print(\"With Scaling and Without CV: \",accuracy_score(y_test,y_pred))\n",
    "scores = cross_val_score(clf, X_train_scale, y_train, cv=10)\n",
    "print(\"With Scaling and With CV: \",scores.mean())\n"
   ]
  },
  {
   "cell_type": "code",
   "execution_count": null,
   "id": "6e6824bc-8f89-4b4a-b8f1-f11b53e23d0b",
   "metadata": {},
   "outputs": [],
   "source": []
  }
 ],
 "metadata": {
  "kernelspec": {
   "display_name": "Python 3 (ipykernel)",
   "language": "python",
   "name": "python3"
  },
  "language_info": {
   "codemirror_mode": {
    "name": "ipython",
    "version": 3
   },
   "file_extension": ".py",
   "mimetype": "text/x-python",
   "name": "python",
   "nbconvert_exporter": "python",
   "pygments_lexer": "ipython3",
   "version": "3.13.2"
  }
 },
 "nbformat": 4,
 "nbformat_minor": 5
}
