{
 "cells": [
  {
   "cell_type": "code",
   "execution_count": null,
   "id": "facc6762-d622-4b6b-b6ce-8f2a4880c60c",
   "metadata": {},
   "outputs": [],
   "source": []
  }
 ],
 "metadata": {
  "kernelspec": {
   "display_name": "",
   "name": ""
  },
  "language_info": {
   "name": ""
  }
 },
 "nbformat": 4,
 "nbformat_minor": 5
}
